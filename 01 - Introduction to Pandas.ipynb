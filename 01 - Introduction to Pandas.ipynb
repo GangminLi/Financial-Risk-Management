{
 "cells": [
  {
   "cell_type": "markdown",
   "id": "8051e564",
   "metadata": {},
   "source": [
    "<a \n",
    " href=\"https://colab.research.google.com/github/LearnPythonWithRune/FinancialDataAnalysisWithPython/blob/main/colab/starter/01 - Introduction to Pandas.ipynb\"\n",
    " target=\"_parent\">\n",
    "<img \n",
    " src=\"https://colab.research.google.com/assets/colab-badge.svg\"\n",
    "alt=\"Open In Colab\"/>\n",
    "</a>"
   ]
  },
  {
   "cell_type": "code",
   "execution_count": null,
   "id": "726325d4",
   "metadata": {},
   "outputs": [],
   "source": []
  },
  {
   "cell_type": "markdown",
   "id": "324644de",
   "metadata": {},
   "source": [
    "# 1. Introduction to DataFrames\n",
    "\n",
    "This tutoral includes:\n",
    "\n",
    "- Read data from CSV (it is downloadable from Yahoo! Finance drectly)\n",
    "- Understand data: \n",
    "    - data size \n",
    "    - types\n",
    "- Set index: understand index: \n",
    "- Parse dates \n",
    "    - Use index with **loc**\n",
    "    - Use indexing with **iloc**"
   ]
  },
  {
   "cell_type": "markdown",
   "id": "17586c48",
   "metadata": {},
   "source": [
    "## Read data from CSV\n",
    "\n",
    "Pandas is a Python package for data manipulation. Pandas uses DataFrames as the core data structure. Most data analyzing tasks are performed with DataFrames.\n",
    "\n",
    "To make use of Pandas we have to install Pandas (uing Pip install pandas). Once you have installed the Pandas, you should be able to import and use pandas in your Jupyter Notebook. To verify that pandas is installed and working correctly, you can run the following code:  `print(pd.__version__)`\n",
    "\n",
    "\n",
    "In Python, Dataframe is an Object with attributes. Objects are in rows and attributes are in columns. Every value within a column has the same data type, either text or numeric, but different columns can contain different data types.\n"
   ]
  },
  {
   "cell_type": "code",
   "execution_count": null,
   "id": "c8555965",
   "metadata": {},
   "outputs": [],
   "source": [
    "#install pandas\n",
    "#!pip install pandas\n",
    "#print(pd._version_)"
   ]
  },
  {
   "cell_type": "code",
   "execution_count": null,
   "id": "aea5fa6e",
   "metadata": {},
   "outputs": [],
   "source": [
    "import pandas as pd\n",
    "print(pd.__version__)"
   ]
  },
  {
   "cell_type": "markdown",
   "id": "ec37368d",
   "metadata": {},
   "source": [
    "## Read data from CSV\n",
    "\n",
    "Use the `.read_csv()` function to read in the data from a CSV file. This function takes the path to the CSV file as its argument. The following code assume that “AAPL.CSV” file is in the currently directory."
   ]
  },
  {
   "cell_type": "code",
   "execution_count": null,
   "id": "8887a4ba",
   "metadata": {},
   "outputs": [],
   "source": [
    "data = pd.read_csv(\"AAPL.csv\", index_col=0, parse_dates=True)"
   ]
  },
  {
   "cell_type": "markdown",
   "id": "08824ac1",
   "metadata": {},
   "source": [
    "## Understand data\n",
    "\n",
    "When you get a new dataset, you store it in a DataFrame. The first thing you need to do is explore it and see what it contains. There are several useful methods and attributes for this.\n",
    "\n",
    "  - print() shows the entir dataset.\n",
    "  - .head() returns the first few rows (the “head” of the DataFrame).\n",
    "  - .tail() returns the first few rows (the “head” of the DataFrame).\n",
    "  - .info(). shows information on each of the columns, such as the data type and number of missing values.\n",
    "  - .shape returns the number of rows and columns of the DataFrame. and \n",
    "  - .describe().\n"
   ]
  },
  {
   "cell_type": "code",
   "execution_count": null,
   "id": "40826870",
   "metadata": {
    "scrolled": false
   },
   "outputs": [],
   "source": [
    "print(data)"
   ]
  },
  {
   "cell_type": "code",
   "execution_count": null,
   "id": "ffe7ebba",
   "metadata": {},
   "outputs": [],
   "source": [
    "data.head(10)"
   ]
  },
  {
   "cell_type": "code",
   "execution_count": null,
   "id": "33114230",
   "metadata": {},
   "outputs": [],
   "source": [
    "data.tail()"
   ]
  },
  {
   "cell_type": "code",
   "execution_count": null,
   "id": "e1ac4f9c",
   "metadata": {},
   "outputs": [],
   "source": [
    "data.info()"
   ]
  },
  {
   "cell_type": "code",
   "execution_count": null,
   "id": "195f8f22",
   "metadata": {},
   "outputs": [],
   "source": [
    "data.shape"
   ]
  },
  {
   "cell_type": "code",
   "execution_count": null,
   "id": "c6816ab1",
   "metadata": {
    "scrolled": true
   },
   "outputs": [],
   "source": [
    "data.describe()"
   ]
  },
  {
   "cell_type": "code",
   "execution_count": null,
   "id": "41c8bacc",
   "metadata": {},
   "outputs": [],
   "source": [
    "data.dtypes"
   ]
  },
  {
   "cell_type": "markdown",
   "id": "333284ab",
   "metadata": {},
   "source": [
    "## Understand Index and use it quick access data\n",
    "\n",
    "The *index* is an important part of a pandas DataFrame because it provides a way to easily identify and select rows based on the labels in the index, and it helps with the alignment of data in operations between DataFrames."
   ]
  },
  {
   "cell_type": "code",
   "execution_count": null,
   "id": "5f333d4b",
   "metadata": {},
   "outputs": [],
   "source": [
    "data.index"
   ]
  },
  {
   "cell_type": "code",
   "execution_count": null,
   "id": "85f91c09",
   "metadata": {},
   "outputs": [],
   "source": [
    "data.loc['2020-01-27']"
   ]
  },
  {
   "cell_type": "code",
   "execution_count": null,
   "id": "70bed548",
   "metadata": {},
   "outputs": [],
   "source": [
    "data.loc['2021-01-01':]"
   ]
  },
  {
   "cell_type": "code",
   "execution_count": null,
   "id": "3a0867b3",
   "metadata": {},
   "outputs": [],
   "source": [
    "data.loc[:'2020-07-01']"
   ]
  },
  {
   "cell_type": "code",
   "execution_count": null,
   "id": "f3d8cc24",
   "metadata": {},
   "outputs": [],
   "source": [
    "data.iloc[0]"
   ]
  },
  {
   "cell_type": "code",
   "execution_count": null,
   "id": "d61a9e11",
   "metadata": {},
   "outputs": [],
   "source": [
    "data.iloc[-1]"
   ]
  },
  {
   "cell_type": "markdown",
   "id": "4f28819b",
   "metadata": {},
   "source": [
    "# End"
   ]
  }
 ],
 "metadata": {
  "kernelspec": {
   "display_name": "Python 3",
   "language": "python",
   "name": "python3"
  },
  "language_info": {
   "codemirror_mode": {
    "name": "ipython",
    "version": 3
   },
   "file_extension": ".py",
   "mimetype": "text/x-python",
   "name": "python",
   "nbconvert_exporter": "python",
   "pygments_lexer": "ipython3",
   "version": "3.8.8"
  }
 },
 "nbformat": 4,
 "nbformat_minor": 5
}
