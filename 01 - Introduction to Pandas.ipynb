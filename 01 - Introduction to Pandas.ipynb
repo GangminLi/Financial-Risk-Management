{
 "cells": [
  {
   "cell_type": "markdown",
   "id": "8051e564",
   "metadata": {},
   "source": [
    "<a \n",
    " href=\"https://colab.research.google.com/github/LearnPythonWithRune/FinancialDataAnalysisWithPython/blob/main/colab/starter/01 - Introduction to Pandas.ipynb\"\n",
    " target=\"_parent\">\n",
    "<img \n",
    " src=\"https://colab.research.google.com/assets/colab-badge.svg\"\n",
    "alt=\"Open In Colab\"/>\n",
    "</a>"
   ]
  },
  {
   "cell_type": "markdown",
   "id": "324644de",
   "metadata": {},
   "source": [
    "# 1. Introduction to DataFrames\n",
    "\n",
    "This tutoral includes:\n",
    "\n",
    "- Read data from CSV (it is downloadable from Yahoo! Finance drectly)\n",
    "- Understand data: \n",
    "    - data size \n",
    "    - types\n",
    "- Set index: understand index: \n",
    "- Parse dates \n",
    "    - Use index with **loc**\n",
    "    - Use indexing with **iloc**"
   ]
  },
  {
   "cell_type": "markdown",
   "id": "17586c48",
   "metadata": {},
   "source": [
    "## Read data from CSV\n",
    "\n",
    "Pandas is a Python package for data manipulation. Pandas uses DataFrames as the core data structure. Most data analyzing tasks are performed with DataFrames.\n",
    "\n",
    "To make use of Pandas we have to install Pandas (uing Pip install pandas). Once you have installed the Pandas, you should be able to import and use pandas in your Jupyter Notebook. To verify that pandas is installed and working correctly, you can run the following code:  `print(pd.__version__)`\n",
    "\n",
    "\n",
    "In Python, Dataframe is an Object with attributes. Objects are in rows and attributes are in columns. Every value within a column has the same data type, either text or numeric, but different columns can contain different data types.\n"
   ]
  },
  {
   "cell_type": "code",
   "execution_count": 1,
   "id": "c4ffa6bf",
   "metadata": {},
   "outputs": [],
   "source": [
    "#install pandas\n",
    "#!pip install pandas\n",
    "#print(pd._version_)"
   ]
  },
  {
   "cell_type": "code",
   "execution_count": 2,
   "id": "aea5fa6e",
   "metadata": {},
   "outputs": [
    {
     "name": "stdout",
     "output_type": "stream",
     "text": [
      "1.5.3\n"
     ]
    }
   ],
   "source": [
    "import pandas as pd\n",
    "print(pd.__version__)"
   ]
  },
  {
   "cell_type": "markdown",
   "id": "ec37368d",
   "metadata": {},
   "source": [
    "## Read data from CSV\n",
    "\n",
    "Use the `.read_csv()` function to read in the data from a CSV file. This function takes the path to the CSV file as its argument. The following code assume that “AAPL.CSV” file is in the currently directory."
   ]
  },
  {
   "cell_type": "code",
   "execution_count": 3,
   "id": "8887a4ba",
   "metadata": {},
   "outputs": [],
   "source": [
    "data = pd.read_csv(\"AAPL.csv\", index_col=0, parse_dates=True)"
   ]
  },
  {
   "cell_type": "markdown",
   "id": "08824ac1",
   "metadata": {},
   "source": [
    "## Understand data\n",
    "\n",
    "When you get a new dataset, you store it in a DataFrame. The first thing you need to do is explore it and see what it contains. There are several useful methods and attributes for this.\n",
    "\n",
    "  - print() shows the entir dataset.\n",
    "  - .head() returns the first few rows (the “head” of the DataFrame).\n",
    "  - .tail() returns the first few rows (the “head” of the DataFrame).\n",
    "  - .info(). shows information on each of the columns, such as the data type and number of missing values.\n",
    "  - .shape returns the number of rows and columns of the DataFrame. and \n",
    "  - .describe().\n"
   ]
  },
  {
   "cell_type": "code",
   "execution_count": 4,
   "id": "40826870",
   "metadata": {
    "scrolled": false
   },
   "outputs": [
    {
     "name": "stdout",
     "output_type": "stream",
     "text": [
      "                  Open        High         Low       Close   Adj Close  \\\n",
      "Date                                                                     \n",
      "2020-01-27   77.514999   77.942497   76.220001   77.237503   76.576187   \n",
      "2020-01-28   78.150002   79.599998   78.047501   79.422501   78.742477   \n",
      "2020-01-29   81.112503   81.962502   80.345001   81.084999   80.390747   \n",
      "2020-01-30   80.135002   81.022499   79.687500   80.967499   80.274246   \n",
      "2020-01-31   80.232498   80.669998   77.072502   77.377502   76.714989   \n",
      "...                ...         ...         ...         ...         ...   \n",
      "2021-01-20  128.660004  132.490005  128.550003  132.029999  132.029999   \n",
      "2021-01-21  133.800003  139.669998  133.589996  136.869995  136.869995   \n",
      "2021-01-22  136.279999  139.850006  135.020004  139.070007  139.070007   \n",
      "2021-01-25  143.070007  145.089996  136.539993  142.919998  142.919998   \n",
      "2021-01-26  143.600006  144.300003  141.369995  142.080002  142.080002   \n",
      "\n",
      "               Volume  \n",
      "Date                   \n",
      "2020-01-27  161940000  \n",
      "2020-01-28  162234000  \n",
      "2020-01-29  216229200  \n",
      "2020-01-30  126743200  \n",
      "2020-01-31  199588400  \n",
      "...               ...  \n",
      "2021-01-20  104319500  \n",
      "2021-01-21  120529500  \n",
      "2021-01-22  114459400  \n",
      "2021-01-25  157282400  \n",
      "2021-01-26   50388565  \n",
      "\n",
      "[253 rows x 6 columns]\n"
     ]
    }
   ],
   "source": [
    "print(data)"
   ]
  },
  {
   "cell_type": "code",
   "execution_count": 5,
   "id": "ffe7ebba",
   "metadata": {},
   "outputs": [
    {
     "data": {
      "text/html": [
       "<div>\n",
       "<style scoped>\n",
       "    .dataframe tbody tr th:only-of-type {\n",
       "        vertical-align: middle;\n",
       "    }\n",
       "\n",
       "    .dataframe tbody tr th {\n",
       "        vertical-align: top;\n",
       "    }\n",
       "\n",
       "    .dataframe thead th {\n",
       "        text-align: right;\n",
       "    }\n",
       "</style>\n",
       "<table border=\"1\" class=\"dataframe\">\n",
       "  <thead>\n",
       "    <tr style=\"text-align: right;\">\n",
       "      <th></th>\n",
       "      <th>Open</th>\n",
       "      <th>High</th>\n",
       "      <th>Low</th>\n",
       "      <th>Close</th>\n",
       "      <th>Adj Close</th>\n",
       "      <th>Volume</th>\n",
       "    </tr>\n",
       "    <tr>\n",
       "      <th>Date</th>\n",
       "      <th></th>\n",
       "      <th></th>\n",
       "      <th></th>\n",
       "      <th></th>\n",
       "      <th></th>\n",
       "      <th></th>\n",
       "    </tr>\n",
       "  </thead>\n",
       "  <tbody>\n",
       "    <tr>\n",
       "      <th>2020-01-27</th>\n",
       "      <td>77.514999</td>\n",
       "      <td>77.942497</td>\n",
       "      <td>76.220001</td>\n",
       "      <td>77.237503</td>\n",
       "      <td>76.576187</td>\n",
       "      <td>161940000</td>\n",
       "    </tr>\n",
       "    <tr>\n",
       "      <th>2020-01-28</th>\n",
       "      <td>78.150002</td>\n",
       "      <td>79.599998</td>\n",
       "      <td>78.047501</td>\n",
       "      <td>79.422501</td>\n",
       "      <td>78.742477</td>\n",
       "      <td>162234000</td>\n",
       "    </tr>\n",
       "    <tr>\n",
       "      <th>2020-01-29</th>\n",
       "      <td>81.112503</td>\n",
       "      <td>81.962502</td>\n",
       "      <td>80.345001</td>\n",
       "      <td>81.084999</td>\n",
       "      <td>80.390747</td>\n",
       "      <td>216229200</td>\n",
       "    </tr>\n",
       "    <tr>\n",
       "      <th>2020-01-30</th>\n",
       "      <td>80.135002</td>\n",
       "      <td>81.022499</td>\n",
       "      <td>79.687500</td>\n",
       "      <td>80.967499</td>\n",
       "      <td>80.274246</td>\n",
       "      <td>126743200</td>\n",
       "    </tr>\n",
       "    <tr>\n",
       "      <th>2020-01-31</th>\n",
       "      <td>80.232498</td>\n",
       "      <td>80.669998</td>\n",
       "      <td>77.072502</td>\n",
       "      <td>77.377502</td>\n",
       "      <td>76.714989</td>\n",
       "      <td>199588400</td>\n",
       "    </tr>\n",
       "    <tr>\n",
       "      <th>2020-02-03</th>\n",
       "      <td>76.074997</td>\n",
       "      <td>78.372498</td>\n",
       "      <td>75.555000</td>\n",
       "      <td>77.165001</td>\n",
       "      <td>76.504311</td>\n",
       "      <td>173985600</td>\n",
       "    </tr>\n",
       "    <tr>\n",
       "      <th>2020-02-04</th>\n",
       "      <td>78.827499</td>\n",
       "      <td>79.910004</td>\n",
       "      <td>78.407501</td>\n",
       "      <td>79.712502</td>\n",
       "      <td>79.029999</td>\n",
       "      <td>136616400</td>\n",
       "    </tr>\n",
       "    <tr>\n",
       "      <th>2020-02-05</th>\n",
       "      <td>80.879997</td>\n",
       "      <td>81.190002</td>\n",
       "      <td>79.737503</td>\n",
       "      <td>80.362503</td>\n",
       "      <td>79.674438</td>\n",
       "      <td>118826800</td>\n",
       "    </tr>\n",
       "    <tr>\n",
       "      <th>2020-02-06</th>\n",
       "      <td>80.642502</td>\n",
       "      <td>81.305000</td>\n",
       "      <td>80.065002</td>\n",
       "      <td>81.302498</td>\n",
       "      <td>80.606384</td>\n",
       "      <td>105425600</td>\n",
       "    </tr>\n",
       "    <tr>\n",
       "      <th>2020-02-07</th>\n",
       "      <td>80.592499</td>\n",
       "      <td>80.849998</td>\n",
       "      <td>79.500000</td>\n",
       "      <td>80.007500</td>\n",
       "      <td>79.510727</td>\n",
       "      <td>117684000</td>\n",
       "    </tr>\n",
       "  </tbody>\n",
       "</table>\n",
       "</div>"
      ],
      "text/plain": [
       "                 Open       High        Low      Close  Adj Close     Volume\n",
       "Date                                                                        \n",
       "2020-01-27  77.514999  77.942497  76.220001  77.237503  76.576187  161940000\n",
       "2020-01-28  78.150002  79.599998  78.047501  79.422501  78.742477  162234000\n",
       "2020-01-29  81.112503  81.962502  80.345001  81.084999  80.390747  216229200\n",
       "2020-01-30  80.135002  81.022499  79.687500  80.967499  80.274246  126743200\n",
       "2020-01-31  80.232498  80.669998  77.072502  77.377502  76.714989  199588400\n",
       "2020-02-03  76.074997  78.372498  75.555000  77.165001  76.504311  173985600\n",
       "2020-02-04  78.827499  79.910004  78.407501  79.712502  79.029999  136616400\n",
       "2020-02-05  80.879997  81.190002  79.737503  80.362503  79.674438  118826800\n",
       "2020-02-06  80.642502  81.305000  80.065002  81.302498  80.606384  105425600\n",
       "2020-02-07  80.592499  80.849998  79.500000  80.007500  79.510727  117684000"
      ]
     },
     "execution_count": 5,
     "metadata": {},
     "output_type": "execute_result"
    }
   ],
   "source": [
    "data.head(10)"
   ]
  },
  {
   "cell_type": "code",
   "execution_count": 6,
   "id": "33114230",
   "metadata": {},
   "outputs": [
    {
     "data": {
      "text/html": [
       "<div>\n",
       "<style scoped>\n",
       "    .dataframe tbody tr th:only-of-type {\n",
       "        vertical-align: middle;\n",
       "    }\n",
       "\n",
       "    .dataframe tbody tr th {\n",
       "        vertical-align: top;\n",
       "    }\n",
       "\n",
       "    .dataframe thead th {\n",
       "        text-align: right;\n",
       "    }\n",
       "</style>\n",
       "<table border=\"1\" class=\"dataframe\">\n",
       "  <thead>\n",
       "    <tr style=\"text-align: right;\">\n",
       "      <th></th>\n",
       "      <th>Open</th>\n",
       "      <th>High</th>\n",
       "      <th>Low</th>\n",
       "      <th>Close</th>\n",
       "      <th>Adj Close</th>\n",
       "      <th>Volume</th>\n",
       "    </tr>\n",
       "    <tr>\n",
       "      <th>Date</th>\n",
       "      <th></th>\n",
       "      <th></th>\n",
       "      <th></th>\n",
       "      <th></th>\n",
       "      <th></th>\n",
       "      <th></th>\n",
       "    </tr>\n",
       "  </thead>\n",
       "  <tbody>\n",
       "    <tr>\n",
       "      <th>2021-01-20</th>\n",
       "      <td>128.660004</td>\n",
       "      <td>132.490005</td>\n",
       "      <td>128.550003</td>\n",
       "      <td>132.029999</td>\n",
       "      <td>132.029999</td>\n",
       "      <td>104319500</td>\n",
       "    </tr>\n",
       "    <tr>\n",
       "      <th>2021-01-21</th>\n",
       "      <td>133.800003</td>\n",
       "      <td>139.669998</td>\n",
       "      <td>133.589996</td>\n",
       "      <td>136.869995</td>\n",
       "      <td>136.869995</td>\n",
       "      <td>120529500</td>\n",
       "    </tr>\n",
       "    <tr>\n",
       "      <th>2021-01-22</th>\n",
       "      <td>136.279999</td>\n",
       "      <td>139.850006</td>\n",
       "      <td>135.020004</td>\n",
       "      <td>139.070007</td>\n",
       "      <td>139.070007</td>\n",
       "      <td>114459400</td>\n",
       "    </tr>\n",
       "    <tr>\n",
       "      <th>2021-01-25</th>\n",
       "      <td>143.070007</td>\n",
       "      <td>145.089996</td>\n",
       "      <td>136.539993</td>\n",
       "      <td>142.919998</td>\n",
       "      <td>142.919998</td>\n",
       "      <td>157282400</td>\n",
       "    </tr>\n",
       "    <tr>\n",
       "      <th>2021-01-26</th>\n",
       "      <td>143.600006</td>\n",
       "      <td>144.300003</td>\n",
       "      <td>141.369995</td>\n",
       "      <td>142.080002</td>\n",
       "      <td>142.080002</td>\n",
       "      <td>50388565</td>\n",
       "    </tr>\n",
       "  </tbody>\n",
       "</table>\n",
       "</div>"
      ],
      "text/plain": [
       "                  Open        High         Low       Close   Adj Close  \\\n",
       "Date                                                                     \n",
       "2021-01-20  128.660004  132.490005  128.550003  132.029999  132.029999   \n",
       "2021-01-21  133.800003  139.669998  133.589996  136.869995  136.869995   \n",
       "2021-01-22  136.279999  139.850006  135.020004  139.070007  139.070007   \n",
       "2021-01-25  143.070007  145.089996  136.539993  142.919998  142.919998   \n",
       "2021-01-26  143.600006  144.300003  141.369995  142.080002  142.080002   \n",
       "\n",
       "               Volume  \n",
       "Date                   \n",
       "2021-01-20  104319500  \n",
       "2021-01-21  120529500  \n",
       "2021-01-22  114459400  \n",
       "2021-01-25  157282400  \n",
       "2021-01-26   50388565  "
      ]
     },
     "execution_count": 6,
     "metadata": {},
     "output_type": "execute_result"
    }
   ],
   "source": [
    "data.tail()"
   ]
  },
  {
   "cell_type": "code",
   "execution_count": 7,
   "id": "e1ac4f9c",
   "metadata": {},
   "outputs": [
    {
     "name": "stdout",
     "output_type": "stream",
     "text": [
      "<class 'pandas.core.frame.DataFrame'>\n",
      "DatetimeIndex: 253 entries, 2020-01-27 to 2021-01-26\n",
      "Data columns (total 6 columns):\n",
      " #   Column     Non-Null Count  Dtype  \n",
      "---  ------     --------------  -----  \n",
      " 0   Open       253 non-null    float64\n",
      " 1   High       253 non-null    float64\n",
      " 2   Low        253 non-null    float64\n",
      " 3   Close      253 non-null    float64\n",
      " 4   Adj Close  253 non-null    float64\n",
      " 5   Volume     253 non-null    int64  \n",
      "dtypes: float64(5), int64(1)\n",
      "memory usage: 13.8 KB\n"
     ]
    }
   ],
   "source": [
    "data.info()"
   ]
  },
  {
   "cell_type": "code",
   "execution_count": 8,
   "id": "195f8f22",
   "metadata": {},
   "outputs": [
    {
     "data": {
      "text/plain": [
       "(253, 6)"
      ]
     },
     "execution_count": 8,
     "metadata": {},
     "output_type": "execute_result"
    }
   ],
   "source": [
    "data.shape"
   ]
  },
  {
   "cell_type": "code",
   "execution_count": 9,
   "id": "c6816ab1",
   "metadata": {
    "scrolled": true
   },
   "outputs": [
    {
     "data": {
      "text/html": [
       "<div>\n",
       "<style scoped>\n",
       "    .dataframe tbody tr th:only-of-type {\n",
       "        vertical-align: middle;\n",
       "    }\n",
       "\n",
       "    .dataframe tbody tr th {\n",
       "        vertical-align: top;\n",
       "    }\n",
       "\n",
       "    .dataframe thead th {\n",
       "        text-align: right;\n",
       "    }\n",
       "</style>\n",
       "<table border=\"1\" class=\"dataframe\">\n",
       "  <thead>\n",
       "    <tr style=\"text-align: right;\">\n",
       "      <th></th>\n",
       "      <th>Open</th>\n",
       "      <th>High</th>\n",
       "      <th>Low</th>\n",
       "      <th>Close</th>\n",
       "      <th>Adj Close</th>\n",
       "      <th>Volume</th>\n",
       "    </tr>\n",
       "  </thead>\n",
       "  <tbody>\n",
       "    <tr>\n",
       "      <th>count</th>\n",
       "      <td>253.000000</td>\n",
       "      <td>253.000000</td>\n",
       "      <td>253.000000</td>\n",
       "      <td>253.000000</td>\n",
       "      <td>253.000000</td>\n",
       "      <td>2.530000e+02</td>\n",
       "    </tr>\n",
       "    <tr>\n",
       "      <th>mean</th>\n",
       "      <td>98.720781</td>\n",
       "      <td>100.196492</td>\n",
       "      <td>97.277569</td>\n",
       "      <td>98.801778</td>\n",
       "      <td>98.540516</td>\n",
       "      <td>1.444898e+08</td>\n",
       "    </tr>\n",
       "    <tr>\n",
       "      <th>std</th>\n",
       "      <td>23.203103</td>\n",
       "      <td>23.309938</td>\n",
       "      <td>22.798247</td>\n",
       "      <td>23.051128</td>\n",
       "      <td>23.194544</td>\n",
       "      <td>7.905464e+07</td>\n",
       "    </tr>\n",
       "    <tr>\n",
       "      <th>min</th>\n",
       "      <td>57.020000</td>\n",
       "      <td>57.125000</td>\n",
       "      <td>53.152500</td>\n",
       "      <td>56.092499</td>\n",
       "      <td>55.744217</td>\n",
       "      <td>2.225040e+07</td>\n",
       "    </tr>\n",
       "    <tr>\n",
       "      <th>25%</th>\n",
       "      <td>78.757500</td>\n",
       "      <td>79.677498</td>\n",
       "      <td>77.727501</td>\n",
       "      <td>78.739998</td>\n",
       "      <td>78.462914</td>\n",
       "      <td>9.435980e+07</td>\n",
       "    </tr>\n",
       "    <tr>\n",
       "      <th>50%</th>\n",
       "      <td>96.997498</td>\n",
       "      <td>98.500000</td>\n",
       "      <td>96.062500</td>\n",
       "      <td>97.057503</td>\n",
       "      <td>96.715965</td>\n",
       "      <td>1.295540e+08</td>\n",
       "    </tr>\n",
       "    <tr>\n",
       "      <th>75%</th>\n",
       "      <td>118.330002</td>\n",
       "      <td>119.629997</td>\n",
       "      <td>116.440002</td>\n",
       "      <td>118.275002</td>\n",
       "      <td>118.071297</td>\n",
       "      <td>1.808603e+08</td>\n",
       "    </tr>\n",
       "    <tr>\n",
       "      <th>max</th>\n",
       "      <td>143.600006</td>\n",
       "      <td>145.089996</td>\n",
       "      <td>141.369995</td>\n",
       "      <td>142.919998</td>\n",
       "      <td>142.919998</td>\n",
       "      <td>4.268848e+08</td>\n",
       "    </tr>\n",
       "  </tbody>\n",
       "</table>\n",
       "</div>"
      ],
      "text/plain": [
       "             Open        High         Low       Close   Adj Close  \\\n",
       "count  253.000000  253.000000  253.000000  253.000000  253.000000   \n",
       "mean    98.720781  100.196492   97.277569   98.801778   98.540516   \n",
       "std     23.203103   23.309938   22.798247   23.051128   23.194544   \n",
       "min     57.020000   57.125000   53.152500   56.092499   55.744217   \n",
       "25%     78.757500   79.677498   77.727501   78.739998   78.462914   \n",
       "50%     96.997498   98.500000   96.062500   97.057503   96.715965   \n",
       "75%    118.330002  119.629997  116.440002  118.275002  118.071297   \n",
       "max    143.600006  145.089996  141.369995  142.919998  142.919998   \n",
       "\n",
       "             Volume  \n",
       "count  2.530000e+02  \n",
       "mean   1.444898e+08  \n",
       "std    7.905464e+07  \n",
       "min    2.225040e+07  \n",
       "25%    9.435980e+07  \n",
       "50%    1.295540e+08  \n",
       "75%    1.808603e+08  \n",
       "max    4.268848e+08  "
      ]
     },
     "execution_count": 9,
     "metadata": {},
     "output_type": "execute_result"
    }
   ],
   "source": [
    "data.describe()"
   ]
  },
  {
   "cell_type": "code",
   "execution_count": null,
   "id": "41c8bacc",
   "metadata": {},
   "outputs": [],
   "source": [
    "data.dtypes"
   ]
  },
  {
   "cell_type": "markdown",
   "id": "333284ab",
   "metadata": {},
   "source": [
    "## Understand Index and use it quick access data\n",
    "\n",
    "The *index* is an important part of a pandas DataFrame because it provides a way to easily identify and select rows based on the labels in the index, and it helps with the alignment of data in operations between DataFrames."
   ]
  },
  {
   "cell_type": "code",
   "execution_count": null,
   "id": "5f333d4b",
   "metadata": {},
   "outputs": [],
   "source": [
    "data.index"
   ]
  },
  {
   "cell_type": "code",
   "execution_count": null,
   "id": "85f91c09",
   "metadata": {},
   "outputs": [],
   "source": [
    "data.loc['2020-01-27']"
   ]
  },
  {
   "cell_type": "code",
   "execution_count": null,
   "id": "70bed548",
   "metadata": {},
   "outputs": [],
   "source": [
    "data.loc['2021-01-01':]"
   ]
  },
  {
   "cell_type": "code",
   "execution_count": null,
   "id": "3a0867b3",
   "metadata": {},
   "outputs": [],
   "source": [
    "data.loc[:'2020-07-01']"
   ]
  },
  {
   "cell_type": "code",
   "execution_count": null,
   "id": "f3d8cc24",
   "metadata": {},
   "outputs": [],
   "source": [
    "data.iloc[0]"
   ]
  },
  {
   "cell_type": "code",
   "execution_count": null,
   "id": "d61a9e11",
   "metadata": {},
   "outputs": [],
   "source": [
    "data.iloc[-1]"
   ]
  },
  {
   "cell_type": "markdown",
   "id": "4f28819b",
   "metadata": {},
   "source": [
    "# End"
   ]
  }
 ],
 "metadata": {
  "kernelspec": {
   "display_name": "Python 3",
   "language": "python",
   "name": "python3"
  },
  "language_info": {
   "codemirror_mode": {
    "name": "ipython",
    "version": 3
   },
   "file_extension": ".py",
   "mimetype": "text/x-python",
   "name": "python",
   "nbconvert_exporter": "python",
   "pygments_lexer": "ipython3",
   "version": "3.8.8"
  }
 },
 "nbformat": 4,
 "nbformat_minor": 5
}
