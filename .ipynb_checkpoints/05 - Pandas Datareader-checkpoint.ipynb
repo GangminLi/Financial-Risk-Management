{
 "cells": [
  {
   "cell_type": "markdown",
   "id": "53828d88",
   "metadata": {},
   "source": [
    "<a \n",
    " href=\"https://colab.research.google.com/github/LearnPythonWithRune/FinancialDataAnalysisWithPython/blob/main/colab/starter/05 - Pandas Datareader.ipynb\"\n",
    " target=\"_parent\">\n",
    "<img \n",
    " src=\"https://colab.research.google.com/assets/colab-badge.svg\"\n",
    "alt=\"Open In Colab\"/>\n",
    "</a>"
   ]
  },
  {
   "cell_type": "markdown",
   "id": "5df92a20",
   "metadata": {},
   "source": [
    "# 5. Pandas-datareader read data with web service API\n",
    "- https://pandas-datareader.readthedocs.io/en/latest/"
   ]
  },
  {
   "cell_type": "markdown",
   "id": "16967968",
   "metadata": {},
   "source": [
    "In Financial analysis, we need a lot fo historical data. These data are generally provided by many online financial serivces like Nasdaq, Woeld bank and goveronment institutions and commercial serivces. \n",
    "\n",
    "These serivces are normally provide data with a service API. Pandas needs to read data form these APIs. Pandas provides a function called **pandas-datareader** it can read data dirctly from a serivce provider. The detailed document can be found from [pandas-datareader](https://pandas-datareader.readthedocs.io/en/latest/)\n",
    "\n",
    "Functions from pandas_datareader.data and pandas_datareader.wb extract data from various Internet sources into a pandas DataFrame. Currently the following sources are supported:\n",
    "\n",
    "- Tiingo - IEX - Alpha Vantage - Econdb - Enigma - Quandl - St.Louis FED (FRED) - Kenneth French’s data library\n",
    "\n",
    "- World Bank - OECD - Eurostat - Thrift Savings Plan - Nasdaq Trader symbol definitions - Stooq\n",
    "\n",
    "- MOEX - Naver Finance\n",
    "\n",
    "- Yahoo Finance"
   ]
  },
  {
   "cell_type": "code",
   "execution_count": null,
   "id": "5e2a56aa",
   "metadata": {},
   "outputs": [],
   "source": [
    "# Install using pip\n",
    "# pip install pandas-datareader"
   ]
  },
  {
   "cell_type": "code",
   "execution_count": 7,
   "id": "c169e405",
   "metadata": {},
   "outputs": [],
   "source": [
    "import pandas_datareader as pdr\n",
    "\n",
    "#This example reads 5-years of 10-year constant maturity yields on U.S. government bonds.\n",
    "data = pdr.get_data_fred('GS10')"
   ]
  },
  {
   "cell_type": "code",
   "execution_count": 8,
   "id": "c9a1f221",
   "metadata": {},
   "outputs": [
    {
     "data": {
      "text/html": [
       "<div>\n",
       "<style scoped>\n",
       "    .dataframe tbody tr th:only-of-type {\n",
       "        vertical-align: middle;\n",
       "    }\n",
       "\n",
       "    .dataframe tbody tr th {\n",
       "        vertical-align: top;\n",
       "    }\n",
       "\n",
       "    .dataframe thead th {\n",
       "        text-align: right;\n",
       "    }\n",
       "</style>\n",
       "<table border=\"1\" class=\"dataframe\">\n",
       "  <thead>\n",
       "    <tr style=\"text-align: right;\">\n",
       "      <th></th>\n",
       "      <th>GS10</th>\n",
       "    </tr>\n",
       "    <tr>\n",
       "      <th>DATE</th>\n",
       "      <th></th>\n",
       "    </tr>\n",
       "  </thead>\n",
       "  <tbody>\n",
       "    <tr>\n",
       "      <th>2017-04-01</th>\n",
       "      <td>2.30</td>\n",
       "    </tr>\n",
       "    <tr>\n",
       "      <th>2017-05-01</th>\n",
       "      <td>2.30</td>\n",
       "    </tr>\n",
       "    <tr>\n",
       "      <th>2017-06-01</th>\n",
       "      <td>2.19</td>\n",
       "    </tr>\n",
       "    <tr>\n",
       "      <th>2017-07-01</th>\n",
       "      <td>2.32</td>\n",
       "    </tr>\n",
       "    <tr>\n",
       "      <th>2017-08-01</th>\n",
       "      <td>2.21</td>\n",
       "    </tr>\n",
       "  </tbody>\n",
       "</table>\n",
       "</div>"
      ],
      "text/plain": [
       "            GS10\n",
       "DATE            \n",
       "2017-04-01  2.30\n",
       "2017-05-01  2.30\n",
       "2017-06-01  2.19\n",
       "2017-07-01  2.32\n",
       "2017-08-01  2.21"
      ]
     },
     "execution_count": 8,
     "metadata": {},
     "output_type": "execute_result"
    }
   ],
   "source": [
    "data.head()"
   ]
  },
  {
   "cell_type": "code",
   "execution_count": 9,
   "id": "42819482",
   "metadata": {},
   "outputs": [
    {
     "data": {
      "text/html": [
       "<div>\n",
       "<style scoped>\n",
       "    .dataframe tbody tr th:only-of-type {\n",
       "        vertical-align: middle;\n",
       "    }\n",
       "\n",
       "    .dataframe tbody tr th {\n",
       "        vertical-align: top;\n",
       "    }\n",
       "\n",
       "    .dataframe thead th {\n",
       "        text-align: right;\n",
       "    }\n",
       "</style>\n",
       "<table border=\"1\" class=\"dataframe\">\n",
       "  <thead>\n",
       "    <tr style=\"text-align: right;\">\n",
       "      <th></th>\n",
       "      <th>GS10</th>\n",
       "    </tr>\n",
       "    <tr>\n",
       "      <th>DATE</th>\n",
       "      <th></th>\n",
       "    </tr>\n",
       "  </thead>\n",
       "  <tbody>\n",
       "    <tr>\n",
       "      <th>2021-09-01</th>\n",
       "      <td>1.37</td>\n",
       "    </tr>\n",
       "    <tr>\n",
       "      <th>2021-10-01</th>\n",
       "      <td>1.58</td>\n",
       "    </tr>\n",
       "    <tr>\n",
       "      <th>2021-11-01</th>\n",
       "      <td>1.56</td>\n",
       "    </tr>\n",
       "    <tr>\n",
       "      <th>2021-12-01</th>\n",
       "      <td>1.47</td>\n",
       "    </tr>\n",
       "    <tr>\n",
       "      <th>2022-01-01</th>\n",
       "      <td>1.76</td>\n",
       "    </tr>\n",
       "  </tbody>\n",
       "</table>\n",
       "</div>"
      ],
      "text/plain": [
       "            GS10\n",
       "DATE            \n",
       "2021-09-01  1.37\n",
       "2021-10-01  1.58\n",
       "2021-11-01  1.56\n",
       "2021-12-01  1.47\n",
       "2022-01-01  1.76"
      ]
     },
     "execution_count": 9,
     "metadata": {},
     "output_type": "execute_result"
    }
   ],
   "source": [
    "data.tail()"
   ]
  },
  {
   "cell_type": "markdown",
   "id": "3f157e60",
   "metadata": {},
   "source": [
    "## Read data from Yahoo Finance "
   ]
  },
  {
   "cell_type": "code",
   "execution_count": 3,
   "id": "25e5cab8",
   "metadata": {},
   "outputs": [],
   "source": [
    "import datetime as dt"
   ]
  },
  {
   "cell_type": "code",
   "execution_count": 4,
   "id": "dc54e752",
   "metadata": {},
   "outputs": [],
   "source": [
    "# Ticker is the symbol of a company on the Stock market. AAPL is Apple\n",
    "ticker = \"AAPL\"\n",
    "start = dt.datetime(2019, 1, 1)\n",
    "end = dt.datetime(2020, 12, 31)\n",
    "\n",
    "data = pdr.get_data_yahoo(ticker, start, end)"
   ]
  },
  {
   "cell_type": "code",
   "execution_count": 5,
   "id": "c6074fd5",
   "metadata": {},
   "outputs": [
    {
     "data": {
      "text/html": [
       "<div>\n",
       "<style scoped>\n",
       "    .dataframe tbody tr th:only-of-type {\n",
       "        vertical-align: middle;\n",
       "    }\n",
       "\n",
       "    .dataframe tbody tr th {\n",
       "        vertical-align: top;\n",
       "    }\n",
       "\n",
       "    .dataframe thead th {\n",
       "        text-align: right;\n",
       "    }\n",
       "</style>\n",
       "<table border=\"1\" class=\"dataframe\">\n",
       "  <thead>\n",
       "    <tr style=\"text-align: right;\">\n",
       "      <th></th>\n",
       "      <th>High</th>\n",
       "      <th>Low</th>\n",
       "      <th>Open</th>\n",
       "      <th>Close</th>\n",
       "      <th>Volume</th>\n",
       "      <th>Adj Close</th>\n",
       "    </tr>\n",
       "    <tr>\n",
       "      <th>Date</th>\n",
       "      <th></th>\n",
       "      <th></th>\n",
       "      <th></th>\n",
       "      <th></th>\n",
       "      <th></th>\n",
       "      <th></th>\n",
       "    </tr>\n",
       "  </thead>\n",
       "  <tbody>\n",
       "    <tr>\n",
       "      <th>2019-01-02</th>\n",
       "      <td>39.712502</td>\n",
       "      <td>38.557499</td>\n",
       "      <td>38.722500</td>\n",
       "      <td>39.480000</td>\n",
       "      <td>148158800.0</td>\n",
       "      <td>38.277523</td>\n",
       "    </tr>\n",
       "    <tr>\n",
       "      <th>2019-01-03</th>\n",
       "      <td>36.430000</td>\n",
       "      <td>35.500000</td>\n",
       "      <td>35.994999</td>\n",
       "      <td>35.547501</td>\n",
       "      <td>365248800.0</td>\n",
       "      <td>34.464798</td>\n",
       "    </tr>\n",
       "    <tr>\n",
       "      <th>2019-01-04</th>\n",
       "      <td>37.137501</td>\n",
       "      <td>35.950001</td>\n",
       "      <td>36.132500</td>\n",
       "      <td>37.064999</td>\n",
       "      <td>234428400.0</td>\n",
       "      <td>35.936081</td>\n",
       "    </tr>\n",
       "    <tr>\n",
       "      <th>2019-01-07</th>\n",
       "      <td>37.207500</td>\n",
       "      <td>36.474998</td>\n",
       "      <td>37.174999</td>\n",
       "      <td>36.982498</td>\n",
       "      <td>219111200.0</td>\n",
       "      <td>35.856094</td>\n",
       "    </tr>\n",
       "    <tr>\n",
       "      <th>2019-01-08</th>\n",
       "      <td>37.955002</td>\n",
       "      <td>37.130001</td>\n",
       "      <td>37.389999</td>\n",
       "      <td>37.687500</td>\n",
       "      <td>164101200.0</td>\n",
       "      <td>36.539619</td>\n",
       "    </tr>\n",
       "  </tbody>\n",
       "</table>\n",
       "</div>"
      ],
      "text/plain": [
       "                 High        Low       Open      Close       Volume  Adj Close\n",
       "Date                                                                          \n",
       "2019-01-02  39.712502  38.557499  38.722500  39.480000  148158800.0  38.277523\n",
       "2019-01-03  36.430000  35.500000  35.994999  35.547501  365248800.0  34.464798\n",
       "2019-01-04  37.137501  35.950001  36.132500  37.064999  234428400.0  35.936081\n",
       "2019-01-07  37.207500  36.474998  37.174999  36.982498  219111200.0  35.856094\n",
       "2019-01-08  37.955002  37.130001  37.389999  37.687500  164101200.0  36.539619"
      ]
     },
     "execution_count": 5,
     "metadata": {},
     "output_type": "execute_result"
    }
   ],
   "source": [
    "data.head()"
   ]
  },
  {
   "cell_type": "markdown",
   "id": "178501fd",
   "metadata": {},
   "source": [
    "**The data is same with we download from the website and save into a CSV fiel and load the content of the CSV file in to DataFrame**"
   ]
  },
  {
   "cell_type": "code",
   "execution_count": 6,
   "id": "658e2add",
   "metadata": {},
   "outputs": [
    {
     "data": {
      "text/plain": [
       "DatetimeIndex(['2019-01-02', '2019-01-03', '2019-01-04', '2019-01-07',\n",
       "               '2019-01-08', '2019-01-09', '2019-01-10', '2019-01-11',\n",
       "               '2019-01-14', '2019-01-15',\n",
       "               ...\n",
       "               '2020-12-17', '2020-12-18', '2020-12-21', '2020-12-22',\n",
       "               '2020-12-23', '2020-12-24', '2020-12-28', '2020-12-29',\n",
       "               '2020-12-30', '2020-12-31'],\n",
       "              dtype='datetime64[ns]', name='Date', length=505, freq=None)"
      ]
     },
     "execution_count": 6,
     "metadata": {},
     "output_type": "execute_result"
    }
   ],
   "source": [
    "data.index"
   ]
  },
  {
   "cell_type": "markdown",
   "id": "749563ee",
   "metadata": {},
   "source": [
    "## Read historic stock prices data from Stooq"
   ]
  },
  {
   "cell_type": "code",
   "execution_count": null,
   "id": "d582464b",
   "metadata": {},
   "outputs": [],
   "source": [
    "# data2 = pdr.get_data_stooq(ticker, start)"
   ]
  },
  {
   "cell_type": "code",
   "execution_count": 12,
   "id": "41f2fdf8",
   "metadata": {},
   "outputs": [
    {
     "data": {
      "text/html": [
       "<div>\n",
       "<style scoped>\n",
       "    .dataframe tbody tr th:only-of-type {\n",
       "        vertical-align: middle;\n",
       "    }\n",
       "\n",
       "    .dataframe tbody tr th {\n",
       "        vertical-align: top;\n",
       "    }\n",
       "\n",
       "    .dataframe thead th {\n",
       "        text-align: right;\n",
       "    }\n",
       "</style>\n",
       "<table border=\"1\" class=\"dataframe\">\n",
       "  <thead>\n",
       "    <tr style=\"text-align: right;\">\n",
       "      <th></th>\n",
       "      <th>Nasdaq Traded</th>\n",
       "      <th>Security Name</th>\n",
       "      <th>Listing Exchange</th>\n",
       "      <th>Market Category</th>\n",
       "      <th>ETF</th>\n",
       "      <th>Round Lot Size</th>\n",
       "      <th>Test Issue</th>\n",
       "      <th>Financial Status</th>\n",
       "      <th>CQS Symbol</th>\n",
       "      <th>NASDAQ Symbol</th>\n",
       "      <th>NextShares</th>\n",
       "    </tr>\n",
       "    <tr>\n",
       "      <th>Symbol</th>\n",
       "      <th></th>\n",
       "      <th></th>\n",
       "      <th></th>\n",
       "      <th></th>\n",
       "      <th></th>\n",
       "      <th></th>\n",
       "      <th></th>\n",
       "      <th></th>\n",
       "      <th></th>\n",
       "      <th></th>\n",
       "      <th></th>\n",
       "    </tr>\n",
       "  </thead>\n",
       "  <tbody>\n",
       "    <tr>\n",
       "      <th>A</th>\n",
       "      <td>True</td>\n",
       "      <td>Agilent Technologies, Inc. Common Stock</td>\n",
       "      <td>N</td>\n",
       "      <td></td>\n",
       "      <td>False</td>\n",
       "      <td>100.0</td>\n",
       "      <td>False</td>\n",
       "      <td>NaN</td>\n",
       "      <td>A</td>\n",
       "      <td>A</td>\n",
       "      <td>False</td>\n",
       "    </tr>\n",
       "    <tr>\n",
       "      <th>AA</th>\n",
       "      <td>True</td>\n",
       "      <td>Alcoa Corporation Common Stock</td>\n",
       "      <td>N</td>\n",
       "      <td></td>\n",
       "      <td>False</td>\n",
       "      <td>100.0</td>\n",
       "      <td>False</td>\n",
       "      <td>NaN</td>\n",
       "      <td>AA</td>\n",
       "      <td>AA</td>\n",
       "      <td>False</td>\n",
       "    </tr>\n",
       "    <tr>\n",
       "      <th>AAA</th>\n",
       "      <td>True</td>\n",
       "      <td>Listed Funds Trust AAF First Priority CLO Bond...</td>\n",
       "      <td>P</td>\n",
       "      <td></td>\n",
       "      <td>True</td>\n",
       "      <td>100.0</td>\n",
       "      <td>False</td>\n",
       "      <td>NaN</td>\n",
       "      <td>AAA</td>\n",
       "      <td>AAA</td>\n",
       "      <td>False</td>\n",
       "    </tr>\n",
       "    <tr>\n",
       "      <th>AAAU</th>\n",
       "      <td>True</td>\n",
       "      <td>Goldman Sachs Physical Gold ETF Shares</td>\n",
       "      <td>Z</td>\n",
       "      <td></td>\n",
       "      <td>True</td>\n",
       "      <td>100.0</td>\n",
       "      <td>False</td>\n",
       "      <td>NaN</td>\n",
       "      <td>AAAU</td>\n",
       "      <td>AAAU</td>\n",
       "      <td>False</td>\n",
       "    </tr>\n",
       "    <tr>\n",
       "      <th>AAC</th>\n",
       "      <td>True</td>\n",
       "      <td>Ares Acquisition Corporation Class A Ordinary ...</td>\n",
       "      <td>N</td>\n",
       "      <td></td>\n",
       "      <td>False</td>\n",
       "      <td>100.0</td>\n",
       "      <td>False</td>\n",
       "      <td>NaN</td>\n",
       "      <td>AAC</td>\n",
       "      <td>AAC</td>\n",
       "      <td>False</td>\n",
       "    </tr>\n",
       "  </tbody>\n",
       "</table>\n",
       "</div>"
      ],
      "text/plain": [
       "        Nasdaq Traded                                      Security Name  \\\n",
       "Symbol                                                                     \n",
       "A                True            Agilent Technologies, Inc. Common Stock   \n",
       "AA               True                    Alcoa Corporation Common Stock    \n",
       "AAA              True  Listed Funds Trust AAF First Priority CLO Bond...   \n",
       "AAAU             True             Goldman Sachs Physical Gold ETF Shares   \n",
       "AAC              True  Ares Acquisition Corporation Class A Ordinary ...   \n",
       "\n",
       "       Listing Exchange Market Category    ETF  Round Lot Size  Test Issue  \\\n",
       "Symbol                                                                       \n",
       "A                     N                  False           100.0       False   \n",
       "AA                    N                  False           100.0       False   \n",
       "AAA                   P                   True           100.0       False   \n",
       "AAAU                  Z                   True           100.0       False   \n",
       "AAC                   N                  False           100.0       False   \n",
       "\n",
       "       Financial Status CQS Symbol NASDAQ Symbol  NextShares  \n",
       "Symbol                                                        \n",
       "A                   NaN          A             A       False  \n",
       "AA                  NaN         AA            AA       False  \n",
       "AAA                 NaN        AAA           AAA       False  \n",
       "AAAU                NaN       AAAU          AAAU       False  \n",
       "AAC                 NaN        AAC           AAC       False  "
      ]
     },
     "execution_count": 12,
     "metadata": {},
     "output_type": "execute_result"
    }
   ],
   "source": [
    "nasdaq_sym = pdr.get_nasdaq_symbols()\n",
    "\n",
    "# understand data we get. we can use .head(), .info(), .shape, .describe(), .columns, .index, .values\n",
    "\n",
    "nasdaq_sym.head()"
   ]
  },
  {
   "cell_type": "code",
   "execution_count": 15,
   "id": "ef4c03b4",
   "metadata": {},
   "outputs": [
    {
     "data": {
      "text/plain": [
       "(12040, 11)"
      ]
     },
     "execution_count": 15,
     "metadata": {},
     "output_type": "execute_result"
    }
   ],
   "source": [
    "# shape returns the number of rows and columns of the DataFrame\n",
    "nasdaq_sym.shape"
   ]
  },
  {
   "cell_type": "code",
   "execution_count": 16,
   "id": "8ea8ca01",
   "metadata": {},
   "outputs": [
    {
     "name": "stdout",
     "output_type": "stream",
     "text": [
      "<class 'pandas.core.frame.DataFrame'>\n",
      "Index: 12040 entries, A to ZYXI\n",
      "Data columns (total 11 columns):\n",
      " #   Column            Non-Null Count  Dtype   \n",
      "---  ------            --------------  -----   \n",
      " 0   Nasdaq Traded     12040 non-null  bool    \n",
      " 1   Security Name     12040 non-null  object  \n",
      " 2   Listing Exchange  12040 non-null  category\n",
      " 3   Market Category   12040 non-null  object  \n",
      " 4   ETF               12040 non-null  bool    \n",
      " 5   Round Lot Size    12040 non-null  float64 \n",
      " 6   Test Issue        12040 non-null  bool    \n",
      " 7   Financial Status  5591 non-null   category\n",
      " 8   CQS Symbol        6449 non-null   object  \n",
      " 9   NASDAQ Symbol     12040 non-null  object  \n",
      " 10  NextShares        12040 non-null  bool    \n",
      "dtypes: bool(4), category(2), float64(1), object(4)\n",
      "memory usage: 893.3+ KB\n"
     ]
    }
   ],
   "source": [
    "# info() shows information on each of the columns\n",
    "nasdaq_sym.info()"
   ]
  },
  {
   "cell_type": "code",
   "execution_count": 17,
   "id": "deb48944",
   "metadata": {},
   "outputs": [
    {
     "data": {
      "text/html": [
       "<div>\n",
       "<style scoped>\n",
       "    .dataframe tbody tr th:only-of-type {\n",
       "        vertical-align: middle;\n",
       "    }\n",
       "\n",
       "    .dataframe tbody tr th {\n",
       "        vertical-align: top;\n",
       "    }\n",
       "\n",
       "    .dataframe thead th {\n",
       "        text-align: right;\n",
       "    }\n",
       "</style>\n",
       "<table border=\"1\" class=\"dataframe\">\n",
       "  <thead>\n",
       "    <tr style=\"text-align: right;\">\n",
       "      <th></th>\n",
       "      <th>Nasdaq Traded</th>\n",
       "      <th>Security Name</th>\n",
       "      <th>Listing Exchange</th>\n",
       "      <th>Market Category</th>\n",
       "      <th>ETF</th>\n",
       "      <th>Round Lot Size</th>\n",
       "      <th>Test Issue</th>\n",
       "      <th>Financial Status</th>\n",
       "      <th>CQS Symbol</th>\n",
       "      <th>NASDAQ Symbol</th>\n",
       "      <th>NextShares</th>\n",
       "    </tr>\n",
       "    <tr>\n",
       "      <th>Symbol</th>\n",
       "      <th></th>\n",
       "      <th></th>\n",
       "      <th></th>\n",
       "      <th></th>\n",
       "      <th></th>\n",
       "      <th></th>\n",
       "      <th></th>\n",
       "      <th></th>\n",
       "      <th></th>\n",
       "      <th></th>\n",
       "      <th></th>\n",
       "    </tr>\n",
       "  </thead>\n",
       "  <tbody>\n",
       "    <tr>\n",
       "      <th>AAPL</th>\n",
       "      <td>True</td>\n",
       "      <td>Apple Inc. - Common Stock</td>\n",
       "      <td>Q</td>\n",
       "      <td>Q</td>\n",
       "      <td>False</td>\n",
       "      <td>100.0</td>\n",
       "      <td>False</td>\n",
       "      <td>N</td>\n",
       "      <td>NaN</td>\n",
       "      <td>AAPL</td>\n",
       "      <td>False</td>\n",
       "    </tr>\n",
       "    <tr>\n",
       "      <th>APLE</th>\n",
       "      <td>True</td>\n",
       "      <td>Apple Hospitality REIT, Inc. Common Shares</td>\n",
       "      <td>N</td>\n",
       "      <td></td>\n",
       "      <td>False</td>\n",
       "      <td>100.0</td>\n",
       "      <td>False</td>\n",
       "      <td>NaN</td>\n",
       "      <td>APLE</td>\n",
       "      <td>APLE</td>\n",
       "      <td>False</td>\n",
       "    </tr>\n",
       "  </tbody>\n",
       "</table>\n",
       "</div>"
      ],
      "text/plain": [
       "        Nasdaq Traded                               Security Name  \\\n",
       "Symbol                                                              \n",
       "AAPL             True                   Apple Inc. - Common Stock   \n",
       "APLE             True  Apple Hospitality REIT, Inc. Common Shares   \n",
       "\n",
       "       Listing Exchange Market Category    ETF  Round Lot Size  Test Issue  \\\n",
       "Symbol                                                                       \n",
       "AAPL                  Q               Q  False           100.0       False   \n",
       "APLE                  N                  False           100.0       False   \n",
       "\n",
       "       Financial Status CQS Symbol NASDAQ Symbol  NextShares  \n",
       "Symbol                                                        \n",
       "AAPL                  N        NaN          AAPL       False  \n",
       "APLE                NaN       APLE          APLE       False  "
      ]
     },
     "execution_count": 17,
     "metadata": {},
     "output_type": "execute_result"
    }
   ],
   "source": [
    "# find company Apple's symbol using many str functions such as .str.contains(\"xxxx\")\n",
    "\n",
    "Name = nasdaq_sym[\"Security Name\"].str.contains(\"Apple\") \n",
    "nasdaq_sym[Name]"
   ]
  },
  {
   "cell_type": "code",
   "execution_count": 18,
   "id": "66b943e5",
   "metadata": {},
   "outputs": [
    {
     "data": {
      "text/plain": [
       "Symbol\n",
       "AAPL    AAPL\n",
       "APLE    APLE\n",
       "Name: NASDAQ Symbol, dtype: object"
      ]
     },
     "execution_count": 18,
     "metadata": {},
     "output_type": "execute_result"
    }
   ],
   "source": [
    "# ticker of Apple\n",
    "ticker = nasdaq_sym[Name][\"NASDAQ Symbol\"]\n",
    "ticker"
   ]
  },
  {
   "cell_type": "code",
   "execution_count": 11,
   "id": "617149c0",
   "metadata": {},
   "outputs": [
    {
     "data": {
      "text/plain": [
       "Nasdaq Traded                            True\n",
       "Security Name       Apple Inc. - Common Stock\n",
       "Listing Exchange                            Q\n",
       "Market Category                             Q\n",
       "ETF                                     False\n",
       "Round Lot Size                          100.0\n",
       "Test Issue                              False\n",
       "Financial Status                            N\n",
       "CQS Symbol                                NaN\n",
       "NASDAQ Symbol                            AAPL\n",
       "NextShares                              False\n",
       "Name: AAPL, dtype: object"
      ]
     },
     "execution_count": 11,
     "metadata": {},
     "output_type": "execute_result"
    }
   ],
   "source": [
    "nasdaq_sym.loc['AAPL']"
   ]
  },
  {
   "cell_type": "markdown",
   "id": "e070a5d8",
   "metadata": {},
   "source": [
    "# End"
   ]
  },
  {
   "cell_type": "code",
   "execution_count": null,
   "id": "9aba801b",
   "metadata": {},
   "outputs": [],
   "source": []
  }
 ],
 "metadata": {
  "kernelspec": {
   "display_name": "Python 3 (ipykernel)",
   "language": "python",
   "name": "python3"
  },
  "language_info": {
   "codemirror_mode": {
    "name": "ipython",
    "version": 3
   },
   "file_extension": ".py",
   "mimetype": "text/x-python",
   "name": "python",
   "nbconvert_exporter": "python",
   "pygments_lexer": "ipython3",
   "version": "3.9.7"
  }
 },
 "nbformat": 4,
 "nbformat_minor": 5
}
