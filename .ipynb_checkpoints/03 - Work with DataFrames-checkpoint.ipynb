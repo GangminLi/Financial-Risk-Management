{
 "cells": [
  {
   "cell_type": "markdown",
   "id": "1f9d6fbd",
   "metadata": {},
   "source": [
    "<a \n",
    " href=\"https://colab.research.google.com/github/LearnPythonWithRune/FinancialDataAnalysisWithPython/blob/main/colab/starter/03 - Work with DataFrames.ipynb\"\n",
    " target=\"_parent\">\n",
    "<img \n",
    " src=\"https://colab.research.google.com/assets/colab-badge.svg\"\n",
    "alt=\"Open In Colab\"/>\n",
    "</a>"
   ]
  },
  {
   "cell_type": "markdown",
   "id": "d93e40e3",
   "metadata": {},
   "source": [
    "# 3. Modify DataFrames and Statistic Summary Functions\n",
    "- Calculate with columns\n",
    "- Create new columns\n",
    "- Drop columns\n",
    "- Min, Max, Argmin, and Argmax\n",
    "- Mean"
   ]
  },
  {
   "cell_type": "code",
   "execution_count": 1,
   "id": "817da3f7",
   "metadata": {},
   "outputs": [
    {
     "data": {
      "text/html": [
       "<div>\n",
       "<style scoped>\n",
       "    .dataframe tbody tr th:only-of-type {\n",
       "        vertical-align: middle;\n",
       "    }\n",
       "\n",
       "    .dataframe tbody tr th {\n",
       "        vertical-align: top;\n",
       "    }\n",
       "\n",
       "    .dataframe thead th {\n",
       "        text-align: right;\n",
       "    }\n",
       "</style>\n",
       "<table border=\"1\" class=\"dataframe\">\n",
       "  <thead>\n",
       "    <tr style=\"text-align: right;\">\n",
       "      <th></th>\n",
       "      <th>Open</th>\n",
       "      <th>High</th>\n",
       "      <th>Low</th>\n",
       "      <th>Close</th>\n",
       "      <th>Adj Close</th>\n",
       "      <th>Volume</th>\n",
       "    </tr>\n",
       "    <tr>\n",
       "      <th>Date</th>\n",
       "      <th></th>\n",
       "      <th></th>\n",
       "      <th></th>\n",
       "      <th></th>\n",
       "      <th></th>\n",
       "      <th></th>\n",
       "    </tr>\n",
       "  </thead>\n",
       "  <tbody>\n",
       "    <tr>\n",
       "      <th>2020-01-27</th>\n",
       "      <td>77.514999</td>\n",
       "      <td>77.942497</td>\n",
       "      <td>76.220001</td>\n",
       "      <td>77.237503</td>\n",
       "      <td>76.576187</td>\n",
       "      <td>161940000</td>\n",
       "    </tr>\n",
       "    <tr>\n",
       "      <th>2020-01-28</th>\n",
       "      <td>78.150002</td>\n",
       "      <td>79.599998</td>\n",
       "      <td>78.047501</td>\n",
       "      <td>79.422501</td>\n",
       "      <td>78.742477</td>\n",
       "      <td>162234000</td>\n",
       "    </tr>\n",
       "    <tr>\n",
       "      <th>2020-01-29</th>\n",
       "      <td>81.112503</td>\n",
       "      <td>81.962502</td>\n",
       "      <td>80.345001</td>\n",
       "      <td>81.084999</td>\n",
       "      <td>80.390747</td>\n",
       "      <td>216229200</td>\n",
       "    </tr>\n",
       "    <tr>\n",
       "      <th>2020-01-30</th>\n",
       "      <td>80.135002</td>\n",
       "      <td>81.022499</td>\n",
       "      <td>79.687500</td>\n",
       "      <td>80.967499</td>\n",
       "      <td>80.274246</td>\n",
       "      <td>126743200</td>\n",
       "    </tr>\n",
       "    <tr>\n",
       "      <th>2020-01-31</th>\n",
       "      <td>80.232498</td>\n",
       "      <td>80.669998</td>\n",
       "      <td>77.072502</td>\n",
       "      <td>77.377502</td>\n",
       "      <td>76.714989</td>\n",
       "      <td>199588400</td>\n",
       "    </tr>\n",
       "  </tbody>\n",
       "</table>\n",
       "</div>"
      ],
      "text/plain": [
       "                 Open       High        Low      Close  Adj Close     Volume\n",
       "Date                                                                        \n",
       "2020-01-27  77.514999  77.942497  76.220001  77.237503  76.576187  161940000\n",
       "2020-01-28  78.150002  79.599998  78.047501  79.422501  78.742477  162234000\n",
       "2020-01-29  81.112503  81.962502  80.345001  81.084999  80.390747  216229200\n",
       "2020-01-30  80.135002  81.022499  79.687500  80.967499  80.274246  126743200\n",
       "2020-01-31  80.232498  80.669998  77.072502  77.377502  76.714989  199588400"
      ]
     },
     "execution_count": 1,
     "metadata": {},
     "output_type": "execute_result"
    }
   ],
   "source": [
    "# load data into DataFrame\n",
    "import pandas as pd\n",
    "data = pd.read_csv(\"AAPL.csv\", index_col=0, parse_dates=True)\n",
    "data.head()"
   ]
  },
  {
   "cell_type": "code",
   "execution_count": 2,
   "id": "e017ba76",
   "metadata": {},
   "outputs": [],
   "source": [
    "# Add a column called 'Daily chg'\n",
    "data['Daily chg'] = data['Close'] - data['Open']"
   ]
  },
  {
   "cell_type": "code",
   "execution_count": 3,
   "id": "096503b2",
   "metadata": {},
   "outputs": [
    {
     "data": {
      "text/html": [
       "<div>\n",
       "<style scoped>\n",
       "    .dataframe tbody tr th:only-of-type {\n",
       "        vertical-align: middle;\n",
       "    }\n",
       "\n",
       "    .dataframe tbody tr th {\n",
       "        vertical-align: top;\n",
       "    }\n",
       "\n",
       "    .dataframe thead th {\n",
       "        text-align: right;\n",
       "    }\n",
       "</style>\n",
       "<table border=\"1\" class=\"dataframe\">\n",
       "  <thead>\n",
       "    <tr style=\"text-align: right;\">\n",
       "      <th></th>\n",
       "      <th>Open</th>\n",
       "      <th>High</th>\n",
       "      <th>Low</th>\n",
       "      <th>Close</th>\n",
       "      <th>Adj Close</th>\n",
       "      <th>Volume</th>\n",
       "      <th>Daily chg</th>\n",
       "    </tr>\n",
       "    <tr>\n",
       "      <th>Date</th>\n",
       "      <th></th>\n",
       "      <th></th>\n",
       "      <th></th>\n",
       "      <th></th>\n",
       "      <th></th>\n",
       "      <th></th>\n",
       "      <th></th>\n",
       "    </tr>\n",
       "  </thead>\n",
       "  <tbody>\n",
       "    <tr>\n",
       "      <th>2020-01-27</th>\n",
       "      <td>77.514999</td>\n",
       "      <td>77.942497</td>\n",
       "      <td>76.220001</td>\n",
       "      <td>77.237503</td>\n",
       "      <td>76.576187</td>\n",
       "      <td>161940000</td>\n",
       "      <td>-0.277496</td>\n",
       "    </tr>\n",
       "    <tr>\n",
       "      <th>2020-01-28</th>\n",
       "      <td>78.150002</td>\n",
       "      <td>79.599998</td>\n",
       "      <td>78.047501</td>\n",
       "      <td>79.422501</td>\n",
       "      <td>78.742477</td>\n",
       "      <td>162234000</td>\n",
       "      <td>1.272499</td>\n",
       "    </tr>\n",
       "    <tr>\n",
       "      <th>2020-01-29</th>\n",
       "      <td>81.112503</td>\n",
       "      <td>81.962502</td>\n",
       "      <td>80.345001</td>\n",
       "      <td>81.084999</td>\n",
       "      <td>80.390747</td>\n",
       "      <td>216229200</td>\n",
       "      <td>-0.027504</td>\n",
       "    </tr>\n",
       "    <tr>\n",
       "      <th>2020-01-30</th>\n",
       "      <td>80.135002</td>\n",
       "      <td>81.022499</td>\n",
       "      <td>79.687500</td>\n",
       "      <td>80.967499</td>\n",
       "      <td>80.274246</td>\n",
       "      <td>126743200</td>\n",
       "      <td>0.832497</td>\n",
       "    </tr>\n",
       "    <tr>\n",
       "      <th>2020-01-31</th>\n",
       "      <td>80.232498</td>\n",
       "      <td>80.669998</td>\n",
       "      <td>77.072502</td>\n",
       "      <td>77.377502</td>\n",
       "      <td>76.714989</td>\n",
       "      <td>199588400</td>\n",
       "      <td>-2.854996</td>\n",
       "    </tr>\n",
       "  </tbody>\n",
       "</table>\n",
       "</div>"
      ],
      "text/plain": [
       "                 Open       High        Low      Close  Adj Close     Volume  \\\n",
       "Date                                                                           \n",
       "2020-01-27  77.514999  77.942497  76.220001  77.237503  76.576187  161940000   \n",
       "2020-01-28  78.150002  79.599998  78.047501  79.422501  78.742477  162234000   \n",
       "2020-01-29  81.112503  81.962502  80.345001  81.084999  80.390747  216229200   \n",
       "2020-01-30  80.135002  81.022499  79.687500  80.967499  80.274246  126743200   \n",
       "2020-01-31  80.232498  80.669998  77.072502  77.377502  76.714989  199588400   \n",
       "\n",
       "            Daily chg  \n",
       "Date                   \n",
       "2020-01-27  -0.277496  \n",
       "2020-01-28   1.272499  \n",
       "2020-01-29  -0.027504  \n",
       "2020-01-30   0.832497  \n",
       "2020-01-31  -2.854996  "
      ]
     },
     "execution_count": 3,
     "metadata": {},
     "output_type": "execute_result"
    }
   ],
   "source": [
    "# Check the new column\n",
    "data.head()"
   ]
  },
  {
   "cell_type": "code",
   "execution_count": 4,
   "id": "c76b770e",
   "metadata": {},
   "outputs": [
    {
     "data": {
      "text/html": [
       "<div>\n",
       "<style scoped>\n",
       "    .dataframe tbody tr th:only-of-type {\n",
       "        vertical-align: middle;\n",
       "    }\n",
       "\n",
       "    .dataframe tbody tr th {\n",
       "        vertical-align: top;\n",
       "    }\n",
       "\n",
       "    .dataframe thead th {\n",
       "        text-align: right;\n",
       "    }\n",
       "</style>\n",
       "<table border=\"1\" class=\"dataframe\">\n",
       "  <thead>\n",
       "    <tr style=\"text-align: right;\">\n",
       "      <th></th>\n",
       "      <th>Open</th>\n",
       "      <th>High</th>\n",
       "      <th>Low</th>\n",
       "      <th>Close</th>\n",
       "      <th>Adj Close</th>\n",
       "      <th>Volume</th>\n",
       "      <th>Daily chg</th>\n",
       "      <th>Normalized</th>\n",
       "    </tr>\n",
       "    <tr>\n",
       "      <th>Date</th>\n",
       "      <th></th>\n",
       "      <th></th>\n",
       "      <th></th>\n",
       "      <th></th>\n",
       "      <th></th>\n",
       "      <th></th>\n",
       "      <th></th>\n",
       "      <th></th>\n",
       "    </tr>\n",
       "  </thead>\n",
       "  <tbody>\n",
       "    <tr>\n",
       "      <th>2020-01-27</th>\n",
       "      <td>77.514999</td>\n",
       "      <td>77.942497</td>\n",
       "      <td>76.220001</td>\n",
       "      <td>77.237503</td>\n",
       "      <td>76.576187</td>\n",
       "      <td>161940000</td>\n",
       "      <td>-0.277496</td>\n",
       "      <td>1.000000</td>\n",
       "    </tr>\n",
       "    <tr>\n",
       "      <th>2020-01-28</th>\n",
       "      <td>78.150002</td>\n",
       "      <td>79.599998</td>\n",
       "      <td>78.047501</td>\n",
       "      <td>79.422501</td>\n",
       "      <td>78.742477</td>\n",
       "      <td>162234000</td>\n",
       "      <td>1.272499</td>\n",
       "      <td>1.028289</td>\n",
       "    </tr>\n",
       "    <tr>\n",
       "      <th>2020-01-29</th>\n",
       "      <td>81.112503</td>\n",
       "      <td>81.962502</td>\n",
       "      <td>80.345001</td>\n",
       "      <td>81.084999</td>\n",
       "      <td>80.390747</td>\n",
       "      <td>216229200</td>\n",
       "      <td>-0.027504</td>\n",
       "      <td>1.049814</td>\n",
       "    </tr>\n",
       "    <tr>\n",
       "      <th>2020-01-30</th>\n",
       "      <td>80.135002</td>\n",
       "      <td>81.022499</td>\n",
       "      <td>79.687500</td>\n",
       "      <td>80.967499</td>\n",
       "      <td>80.274246</td>\n",
       "      <td>126743200</td>\n",
       "      <td>0.832497</td>\n",
       "      <td>1.048293</td>\n",
       "    </tr>\n",
       "    <tr>\n",
       "      <th>2020-01-31</th>\n",
       "      <td>80.232498</td>\n",
       "      <td>80.669998</td>\n",
       "      <td>77.072502</td>\n",
       "      <td>77.377502</td>\n",
       "      <td>76.714989</td>\n",
       "      <td>199588400</td>\n",
       "      <td>-2.854996</td>\n",
       "      <td>1.001813</td>\n",
       "    </tr>\n",
       "  </tbody>\n",
       "</table>\n",
       "</div>"
      ],
      "text/plain": [
       "                 Open       High        Low      Close  Adj Close     Volume  \\\n",
       "Date                                                                           \n",
       "2020-01-27  77.514999  77.942497  76.220001  77.237503  76.576187  161940000   \n",
       "2020-01-28  78.150002  79.599998  78.047501  79.422501  78.742477  162234000   \n",
       "2020-01-29  81.112503  81.962502  80.345001  81.084999  80.390747  216229200   \n",
       "2020-01-30  80.135002  81.022499  79.687500  80.967499  80.274246  126743200   \n",
       "2020-01-31  80.232498  80.669998  77.072502  77.377502  76.714989  199588400   \n",
       "\n",
       "            Daily chg  Normalized  \n",
       "Date                               \n",
       "2020-01-27  -0.277496    1.000000  \n",
       "2020-01-28   1.272499    1.028289  \n",
       "2020-01-29  -0.027504    1.049814  \n",
       "2020-01-30   0.832497    1.048293  \n",
       "2020-01-31  -2.854996    1.001813  "
      ]
     },
     "execution_count": 4,
     "metadata": {},
     "output_type": "execute_result"
    }
   ],
   "source": [
    "# add second column 'Normalized' and check\n",
    "\n",
    "data['Normalized'] = data['Close'] / data['Close'].iloc[0]\n",
    "data.head()"
   ]
  },
  {
   "cell_type": "code",
   "execution_count": 5,
   "id": "f37bec01",
   "metadata": {},
   "outputs": [
    {
     "data": {
      "text/html": [
       "<div>\n",
       "<style scoped>\n",
       "    .dataframe tbody tr th:only-of-type {\n",
       "        vertical-align: middle;\n",
       "    }\n",
       "\n",
       "    .dataframe tbody tr th {\n",
       "        vertical-align: top;\n",
       "    }\n",
       "\n",
       "    .dataframe thead th {\n",
       "        text-align: right;\n",
       "    }\n",
       "</style>\n",
       "<table border=\"1\" class=\"dataframe\">\n",
       "  <thead>\n",
       "    <tr style=\"text-align: right;\">\n",
       "      <th></th>\n",
       "      <th>Open</th>\n",
       "      <th>High</th>\n",
       "      <th>Low</th>\n",
       "      <th>Close</th>\n",
       "      <th>Adj Close</th>\n",
       "      <th>Volume</th>\n",
       "      <th>Daily chg</th>\n",
       "      <th>Normalized</th>\n",
       "    </tr>\n",
       "    <tr>\n",
       "      <th>Date</th>\n",
       "      <th></th>\n",
       "      <th></th>\n",
       "      <th></th>\n",
       "      <th></th>\n",
       "      <th></th>\n",
       "      <th></th>\n",
       "      <th></th>\n",
       "      <th></th>\n",
       "    </tr>\n",
       "  </thead>\n",
       "  <tbody>\n",
       "    <tr>\n",
       "      <th>2021-01-20</th>\n",
       "      <td>128.660004</td>\n",
       "      <td>132.490005</td>\n",
       "      <td>128.550003</td>\n",
       "      <td>132.029999</td>\n",
       "      <td>132.029999</td>\n",
       "      <td>104319500</td>\n",
       "      <td>3.369995</td>\n",
       "      <td>1.709403</td>\n",
       "    </tr>\n",
       "    <tr>\n",
       "      <th>2021-01-21</th>\n",
       "      <td>133.800003</td>\n",
       "      <td>139.669998</td>\n",
       "      <td>133.589996</td>\n",
       "      <td>136.869995</td>\n",
       "      <td>136.869995</td>\n",
       "      <td>120529500</td>\n",
       "      <td>3.069992</td>\n",
       "      <td>1.772067</td>\n",
       "    </tr>\n",
       "    <tr>\n",
       "      <th>2021-01-22</th>\n",
       "      <td>136.279999</td>\n",
       "      <td>139.850006</td>\n",
       "      <td>135.020004</td>\n",
       "      <td>139.070007</td>\n",
       "      <td>139.070007</td>\n",
       "      <td>114459400</td>\n",
       "      <td>2.790008</td>\n",
       "      <td>1.800550</td>\n",
       "    </tr>\n",
       "    <tr>\n",
       "      <th>2021-01-25</th>\n",
       "      <td>143.070007</td>\n",
       "      <td>145.089996</td>\n",
       "      <td>136.539993</td>\n",
       "      <td>142.919998</td>\n",
       "      <td>142.919998</td>\n",
       "      <td>157282400</td>\n",
       "      <td>-0.150009</td>\n",
       "      <td>1.850396</td>\n",
       "    </tr>\n",
       "    <tr>\n",
       "      <th>2021-01-26</th>\n",
       "      <td>143.600006</td>\n",
       "      <td>144.300003</td>\n",
       "      <td>141.369995</td>\n",
       "      <td>142.080002</td>\n",
       "      <td>142.080002</td>\n",
       "      <td>50388565</td>\n",
       "      <td>-1.520004</td>\n",
       "      <td>1.839521</td>\n",
       "    </tr>\n",
       "  </tbody>\n",
       "</table>\n",
       "</div>"
      ],
      "text/plain": [
       "                  Open        High         Low       Close   Adj Close  \\\n",
       "Date                                                                     \n",
       "2021-01-20  128.660004  132.490005  128.550003  132.029999  132.029999   \n",
       "2021-01-21  133.800003  139.669998  133.589996  136.869995  136.869995   \n",
       "2021-01-22  136.279999  139.850006  135.020004  139.070007  139.070007   \n",
       "2021-01-25  143.070007  145.089996  136.539993  142.919998  142.919998   \n",
       "2021-01-26  143.600006  144.300003  141.369995  142.080002  142.080002   \n",
       "\n",
       "               Volume  Daily chg  Normalized  \n",
       "Date                                          \n",
       "2021-01-20  104319500   3.369995    1.709403  \n",
       "2021-01-21  120529500   3.069992    1.772067  \n",
       "2021-01-22  114459400   2.790008    1.800550  \n",
       "2021-01-25  157282400  -0.150009    1.850396  \n",
       "2021-01-26   50388565  -1.520004    1.839521  "
      ]
     },
     "execution_count": 5,
     "metadata": {},
     "output_type": "execute_result"
    }
   ],
   "source": [
    "data.tail()"
   ]
  },
  {
   "cell_type": "markdown",
   "id": "89d8c61a",
   "metadata": {},
   "source": [
    "## Column’s statistics summary"
   ]
  },
  {
   "cell_type": "markdown",
   "id": "82aef000",
   "metadata": {},
   "source": [
    "Pandas has many statistical summary and calculations works on a data column. \n",
    "\n",
    ".sum(), .cumsum(), .quantile(), .median(), .mode(), .min(), .max(), .var(), .std(), and .std() etc.\n"
   ]
  },
  {
   "cell_type": "code",
   "execution_count": 6,
   "id": "4ba281d6",
   "metadata": {},
   "outputs": [
    {
     "data": {
      "text/plain": [
       "56.092499"
      ]
     },
     "execution_count": 6,
     "metadata": {},
     "output_type": "execute_result"
    }
   ],
   "source": [
    "# find the minimum of a column\n",
    "data['Close'].min()"
   ]
  },
  {
   "cell_type": "code",
   "execution_count": 7,
   "id": "b3563200",
   "metadata": {},
   "outputs": [
    {
     "data": {
      "text/plain": [
       "39"
      ]
     },
     "execution_count": 7,
     "metadata": {},
     "output_type": "execute_result"
    }
   ],
   "source": [
    "# find the index of the minimum value \n",
    "data['Close'].argmin()"
   ]
  },
  {
   "cell_type": "code",
   "execution_count": 9,
   "id": "579603ff",
   "metadata": {},
   "outputs": [
    {
     "data": {
      "text/plain": [
       "0.7262339772946828"
      ]
     },
     "execution_count": 9,
     "metadata": {},
     "output_type": "execute_result"
    }
   ],
   "source": [
    "data['Normalized'].min()\n"
   ]
  },
  {
   "cell_type": "code",
   "execution_count": 10,
   "id": "bdaaf9f7",
   "metadata": {},
   "outputs": [
    {
     "data": {
      "text/plain": [
       "39"
      ]
     },
     "execution_count": 10,
     "metadata": {},
     "output_type": "execute_result"
    }
   ],
   "source": [
    "data['Normalized'].argmin()\n"
   ]
  },
  {
   "cell_type": "code",
   "execution_count": 11,
   "id": "4af69f0d",
   "metadata": {},
   "outputs": [
    {
     "data": {
      "text/plain": [
       "142.919998"
      ]
     },
     "execution_count": 11,
     "metadata": {},
     "output_type": "execute_result"
    }
   ],
   "source": [
    "data['Close'].max()\n"
   ]
  },
  {
   "cell_type": "code",
   "execution_count": 12,
   "id": "a3a6224c",
   "metadata": {},
   "outputs": [
    {
     "data": {
      "text/plain": [
       "251"
      ]
     },
     "execution_count": 12,
     "metadata": {},
     "output_type": "execute_result"
    }
   ],
   "source": [
    "data['Close'].argmax()"
   ]
  },
  {
   "cell_type": "code",
   "execution_count": 13,
   "id": "17d7b45b",
   "metadata": {},
   "outputs": [
    {
     "data": {
      "text/plain": [
       "98.80177844268775"
      ]
     },
     "execution_count": 13,
     "metadata": {},
     "output_type": "execute_result"
    }
   ],
   "source": [
    "# get the mean value of a column\n",
    "data['Close'].mean()"
   ]
  },
  {
   "cell_type": "markdown",
   "id": "ce81273b",
   "metadata": {},
   "source": [
    "## Remove columns of data \n",
    "\n",
    "It is always good practice to remove the columns of data we do not intend to use anymore. This can be done by using drop()."
   ]
  },
  {
   "cell_type": "code",
   "execution_count": 14,
   "id": "df88d3c5",
   "metadata": {},
   "outputs": [],
   "source": [
    "data.drop(labels=['High', 'Low', 'Adj Close', 'Volume'], axis=1, inplace=True)"
   ]
  },
  {
   "cell_type": "markdown",
   "id": "0176b80a",
   "metadata": {},
   "source": [
    "Above code:\n",
    "\n",
    "-\tlabels=[‘High’, ‘Low’, ‘Adj Close’, ‘Volume’] sets the labels of the columns we want to remove.\n",
    "-\taxis=1 sets the axis of the labels. Default is 0, and will look for the labels on the index. While axis 1 is the column names.\n",
    "-\tinplace=True says it should actually remove the columns on the DataFrame we work on. Otherwise it will return a new DataFrame without the columns.\n"
   ]
  },
  {
   "cell_type": "code",
   "execution_count": 15,
   "id": "6b34c9c5",
   "metadata": {},
   "outputs": [
    {
     "data": {
      "text/html": [
       "<div>\n",
       "<style scoped>\n",
       "    .dataframe tbody tr th:only-of-type {\n",
       "        vertical-align: middle;\n",
       "    }\n",
       "\n",
       "    .dataframe tbody tr th {\n",
       "        vertical-align: top;\n",
       "    }\n",
       "\n",
       "    .dataframe thead th {\n",
       "        text-align: right;\n",
       "    }\n",
       "</style>\n",
       "<table border=\"1\" class=\"dataframe\">\n",
       "  <thead>\n",
       "    <tr style=\"text-align: right;\">\n",
       "      <th></th>\n",
       "      <th>Open</th>\n",
       "      <th>Close</th>\n",
       "      <th>Daily chg</th>\n",
       "      <th>Normalized</th>\n",
       "    </tr>\n",
       "    <tr>\n",
       "      <th>Date</th>\n",
       "      <th></th>\n",
       "      <th></th>\n",
       "      <th></th>\n",
       "      <th></th>\n",
       "    </tr>\n",
       "  </thead>\n",
       "  <tbody>\n",
       "    <tr>\n",
       "      <th>2020-01-27</th>\n",
       "      <td>77.514999</td>\n",
       "      <td>77.237503</td>\n",
       "      <td>-0.277496</td>\n",
       "      <td>1.000000</td>\n",
       "    </tr>\n",
       "    <tr>\n",
       "      <th>2020-01-28</th>\n",
       "      <td>78.150002</td>\n",
       "      <td>79.422501</td>\n",
       "      <td>1.272499</td>\n",
       "      <td>1.028289</td>\n",
       "    </tr>\n",
       "    <tr>\n",
       "      <th>2020-01-29</th>\n",
       "      <td>81.112503</td>\n",
       "      <td>81.084999</td>\n",
       "      <td>-0.027504</td>\n",
       "      <td>1.049814</td>\n",
       "    </tr>\n",
       "    <tr>\n",
       "      <th>2020-01-30</th>\n",
       "      <td>80.135002</td>\n",
       "      <td>80.967499</td>\n",
       "      <td>0.832497</td>\n",
       "      <td>1.048293</td>\n",
       "    </tr>\n",
       "    <tr>\n",
       "      <th>2020-01-31</th>\n",
       "      <td>80.232498</td>\n",
       "      <td>77.377502</td>\n",
       "      <td>-2.854996</td>\n",
       "      <td>1.001813</td>\n",
       "    </tr>\n",
       "    <tr>\n",
       "      <th>...</th>\n",
       "      <td>...</td>\n",
       "      <td>...</td>\n",
       "      <td>...</td>\n",
       "      <td>...</td>\n",
       "    </tr>\n",
       "    <tr>\n",
       "      <th>2021-01-20</th>\n",
       "      <td>128.660004</td>\n",
       "      <td>132.029999</td>\n",
       "      <td>3.369995</td>\n",
       "      <td>1.709403</td>\n",
       "    </tr>\n",
       "    <tr>\n",
       "      <th>2021-01-21</th>\n",
       "      <td>133.800003</td>\n",
       "      <td>136.869995</td>\n",
       "      <td>3.069992</td>\n",
       "      <td>1.772067</td>\n",
       "    </tr>\n",
       "    <tr>\n",
       "      <th>2021-01-22</th>\n",
       "      <td>136.279999</td>\n",
       "      <td>139.070007</td>\n",
       "      <td>2.790008</td>\n",
       "      <td>1.800550</td>\n",
       "    </tr>\n",
       "    <tr>\n",
       "      <th>2021-01-25</th>\n",
       "      <td>143.070007</td>\n",
       "      <td>142.919998</td>\n",
       "      <td>-0.150009</td>\n",
       "      <td>1.850396</td>\n",
       "    </tr>\n",
       "    <tr>\n",
       "      <th>2021-01-26</th>\n",
       "      <td>143.600006</td>\n",
       "      <td>142.080002</td>\n",
       "      <td>-1.520004</td>\n",
       "      <td>1.839521</td>\n",
       "    </tr>\n",
       "  </tbody>\n",
       "</table>\n",
       "<p>253 rows × 4 columns</p>\n",
       "</div>"
      ],
      "text/plain": [
       "                  Open       Close  Daily chg  Normalized\n",
       "Date                                                     \n",
       "2020-01-27   77.514999   77.237503  -0.277496    1.000000\n",
       "2020-01-28   78.150002   79.422501   1.272499    1.028289\n",
       "2020-01-29   81.112503   81.084999  -0.027504    1.049814\n",
       "2020-01-30   80.135002   80.967499   0.832497    1.048293\n",
       "2020-01-31   80.232498   77.377502  -2.854996    1.001813\n",
       "...                ...         ...        ...         ...\n",
       "2021-01-20  128.660004  132.029999   3.369995    1.709403\n",
       "2021-01-21  133.800003  136.869995   3.069992    1.772067\n",
       "2021-01-22  136.279999  139.070007   2.790008    1.800550\n",
       "2021-01-25  143.070007  142.919998  -0.150009    1.850396\n",
       "2021-01-26  143.600006  142.080002  -1.520004    1.839521\n",
       "\n",
       "[253 rows x 4 columns]"
      ]
     },
     "execution_count": 15,
     "metadata": {},
     "output_type": "execute_result"
    }
   ],
   "source": [
    "data"
   ]
  },
  {
   "cell_type": "markdown",
   "id": "738b4a8a",
   "metadata": {},
   "source": [
    "# End"
   ]
  }
 ],
 "metadata": {
  "kernelspec": {
   "display_name": "Python 3 (ipykernel)",
   "language": "python",
   "name": "python3"
  },
  "language_info": {
   "codemirror_mode": {
    "name": "ipython",
    "version": 3
   },
   "file_extension": ".py",
   "mimetype": "text/x-python",
   "name": "python",
   "nbconvert_exporter": "python",
   "pygments_lexer": "ipython3",
   "version": "3.9.7"
  }
 },
 "nbformat": 4,
 "nbformat_minor": 5
}
