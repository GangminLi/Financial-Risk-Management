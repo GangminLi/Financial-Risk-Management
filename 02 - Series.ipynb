{
 "cells": [
  {
   "cell_type": "markdown",
   "id": "7c897116",
   "metadata": {},
   "source": [
    "<a \n",
    " href=\"https://colab.research.google.com/github/LearnPythonWithRune/FinancialDataAnalysisWithPython/blob/main/colab/starter/02 - Series.ipynb\"\n",
    " target=\"_parent\">\n",
    "<img \n",
    " src=\"https://colab.research.google.com/assets/colab-badge.svg\"\n",
    "alt=\"Open In Colab\"/>\n",
    "</a>"
   ]
  },
  {
   "cell_type": "markdown",
   "id": "27ee6317",
   "metadata": {},
   "source": [
    "# 2. Series\n",
    "- Use **type** to get data type\n",
    "- Each column is a Series\n",
    "- Series show data type (dtype)\n",
    "- Calculate with Series\n",
    "    - Daily change\n",
    "    - Daily percentage change\n",
    "    - Normalize data\n",
    "- Similar to Excel\n",
    "- Indexing with Series"
   ]
  },
  {
   "cell_type": "code",
   "execution_count": 1,
   "id": "8c1d363d",
   "metadata": {},
   "outputs": [],
   "source": [
    "import pandas as pd"
   ]
  },
  {
   "cell_type": "code",
   "execution_count": 2,
   "id": "ec37c1e6",
   "metadata": {},
   "outputs": [],
   "source": [
    "data = pd.read_csv(\"AAPL.csv\", index_col=0, parse_dates=True)"
   ]
  },
  {
   "cell_type": "code",
   "execution_count": 3,
   "id": "9f3302d0",
   "metadata": {},
   "outputs": [
    {
     "data": {
      "text/html": [
       "<div>\n",
       "<style scoped>\n",
       "    .dataframe tbody tr th:only-of-type {\n",
       "        vertical-align: middle;\n",
       "    }\n",
       "\n",
       "    .dataframe tbody tr th {\n",
       "        vertical-align: top;\n",
       "    }\n",
       "\n",
       "    .dataframe thead th {\n",
       "        text-align: right;\n",
       "    }\n",
       "</style>\n",
       "<table border=\"1\" class=\"dataframe\">\n",
       "  <thead>\n",
       "    <tr style=\"text-align: right;\">\n",
       "      <th></th>\n",
       "      <th>Open</th>\n",
       "      <th>High</th>\n",
       "      <th>Low</th>\n",
       "      <th>Close</th>\n",
       "      <th>Adj Close</th>\n",
       "      <th>Volume</th>\n",
       "    </tr>\n",
       "    <tr>\n",
       "      <th>Date</th>\n",
       "      <th></th>\n",
       "      <th></th>\n",
       "      <th></th>\n",
       "      <th></th>\n",
       "      <th></th>\n",
       "      <th></th>\n",
       "    </tr>\n",
       "  </thead>\n",
       "  <tbody>\n",
       "    <tr>\n",
       "      <th>2020-01-27</th>\n",
       "      <td>77.514999</td>\n",
       "      <td>77.942497</td>\n",
       "      <td>76.220001</td>\n",
       "      <td>77.237503</td>\n",
       "      <td>76.576187</td>\n",
       "      <td>161940000</td>\n",
       "    </tr>\n",
       "    <tr>\n",
       "      <th>2020-01-28</th>\n",
       "      <td>78.150002</td>\n",
       "      <td>79.599998</td>\n",
       "      <td>78.047501</td>\n",
       "      <td>79.422501</td>\n",
       "      <td>78.742477</td>\n",
       "      <td>162234000</td>\n",
       "    </tr>\n",
       "    <tr>\n",
       "      <th>2020-01-29</th>\n",
       "      <td>81.112503</td>\n",
       "      <td>81.962502</td>\n",
       "      <td>80.345001</td>\n",
       "      <td>81.084999</td>\n",
       "      <td>80.390747</td>\n",
       "      <td>216229200</td>\n",
       "    </tr>\n",
       "    <tr>\n",
       "      <th>2020-01-30</th>\n",
       "      <td>80.135002</td>\n",
       "      <td>81.022499</td>\n",
       "      <td>79.687500</td>\n",
       "      <td>80.967499</td>\n",
       "      <td>80.274246</td>\n",
       "      <td>126743200</td>\n",
       "    </tr>\n",
       "    <tr>\n",
       "      <th>2020-01-31</th>\n",
       "      <td>80.232498</td>\n",
       "      <td>80.669998</td>\n",
       "      <td>77.072502</td>\n",
       "      <td>77.377502</td>\n",
       "      <td>76.714989</td>\n",
       "      <td>199588400</td>\n",
       "    </tr>\n",
       "  </tbody>\n",
       "</table>\n",
       "</div>"
      ],
      "text/plain": [
       "                 Open       High        Low      Close  Adj Close     Volume\n",
       "Date                                                                        \n",
       "2020-01-27  77.514999  77.942497  76.220001  77.237503  76.576187  161940000\n",
       "2020-01-28  78.150002  79.599998  78.047501  79.422501  78.742477  162234000\n",
       "2020-01-29  81.112503  81.962502  80.345001  81.084999  80.390747  216229200\n",
       "2020-01-30  80.135002  81.022499  79.687500  80.967499  80.274246  126743200\n",
       "2020-01-31  80.232498  80.669998  77.072502  77.377502  76.714989  199588400"
      ]
     },
     "execution_count": 3,
     "metadata": {},
     "output_type": "execute_result"
    }
   ],
   "source": [
    "# Check file\n",
    "data.head()"
   ]
  },
  {
   "cell_type": "code",
   "execution_count": 4,
   "id": "1e2d8bbc",
   "metadata": {},
   "outputs": [
    {
     "data": {
      "text/plain": [
       "Open         float64\n",
       "High         float64\n",
       "Low          float64\n",
       "Close        float64\n",
       "Adj Close    float64\n",
       "Volume         int64\n",
       "dtype: object"
      ]
     },
     "execution_count": 4,
     "metadata": {},
     "output_type": "execute_result"
    }
   ],
   "source": [
    "# chack data types\n",
    "data.dtypes"
   ]
  },
  {
   "cell_type": "code",
   "execution_count": 5,
   "id": "4b44dd81",
   "metadata": {},
   "outputs": [
    {
     "data": {
      "text/plain": [
       "pandas.core.frame.DataFrame"
      ]
     },
     "execution_count": 5,
     "metadata": {},
     "output_type": "execute_result"
    }
   ],
   "source": [
    "# check data type\n",
    "type(data)"
   ]
  },
  {
   "cell_type": "code",
   "execution_count": 6,
   "id": "ac87180c",
   "metadata": {},
   "outputs": [
    {
     "data": {
      "text/plain": [
       "Date\n",
       "2020-01-27     77.237503\n",
       "2020-01-28     79.422501\n",
       "2020-01-29     81.084999\n",
       "2020-01-30     80.967499\n",
       "2020-01-31     77.377502\n",
       "                 ...    \n",
       "2021-01-20    132.029999\n",
       "2021-01-21    136.869995\n",
       "2021-01-22    139.070007\n",
       "2021-01-25    142.919998\n",
       "2021-01-26    142.080002\n",
       "Name: Close, Length: 253, dtype: float64"
      ]
     },
     "execution_count": 6,
     "metadata": {},
     "output_type": "execute_result"
    }
   ],
   "source": [
    "# Access to a clumn values\n",
    "data['Close']"
   ]
  },
  {
   "cell_type": "code",
   "execution_count": 7,
   "id": "272bd29c",
   "metadata": {},
   "outputs": [
    {
     "data": {
      "text/plain": [
       "pandas.core.series.Series"
      ]
     },
     "execution_count": 7,
     "metadata": {},
     "output_type": "execute_result"
    }
   ],
   "source": [
    "# Check a column type\n",
    "type(data['Close'])"
   ]
  },
  {
   "cell_type": "markdown",
   "id": "868f6b1a",
   "metadata": {},
   "source": [
    " Explore data [Series](https://pandas.pydata.org/pandas-docs/stable/reference/api/pandas.Series.html)"
   ]
  },
  {
   "cell_type": "markdown",
   "id": "97eddd9a",
   "metadata": {},
   "source": [
    "## Calculate daily change"
   ]
  },
  {
   "cell_type": "code",
   "execution_count": 11,
   "id": "216e0b97",
   "metadata": {},
   "outputs": [],
   "source": [
    "daily_chg = data['Open'] - data['Close']"
   ]
  },
  {
   "cell_type": "code",
   "execution_count": 12,
   "id": "d7e483ab",
   "metadata": {},
   "outputs": [
    {
     "data": {
      "text/html": [
       "<div>\n",
       "<style scoped>\n",
       "    .dataframe tbody tr th:only-of-type {\n",
       "        vertical-align: middle;\n",
       "    }\n",
       "\n",
       "    .dataframe tbody tr th {\n",
       "        vertical-align: top;\n",
       "    }\n",
       "\n",
       "    .dataframe thead th {\n",
       "        text-align: right;\n",
       "    }\n",
       "</style>\n",
       "<table border=\"1\" class=\"dataframe\">\n",
       "  <thead>\n",
       "    <tr style=\"text-align: right;\">\n",
       "      <th></th>\n",
       "      <th>Open</th>\n",
       "      <th>High</th>\n",
       "      <th>Low</th>\n",
       "      <th>Close</th>\n",
       "      <th>Adj Close</th>\n",
       "      <th>Volume</th>\n",
       "    </tr>\n",
       "    <tr>\n",
       "      <th>Date</th>\n",
       "      <th></th>\n",
       "      <th></th>\n",
       "      <th></th>\n",
       "      <th></th>\n",
       "      <th></th>\n",
       "      <th></th>\n",
       "    </tr>\n",
       "  </thead>\n",
       "  <tbody>\n",
       "    <tr>\n",
       "      <th>2020-01-27</th>\n",
       "      <td>77.514999</td>\n",
       "      <td>77.942497</td>\n",
       "      <td>76.220001</td>\n",
       "      <td>77.237503</td>\n",
       "      <td>76.576187</td>\n",
       "      <td>161940000</td>\n",
       "    </tr>\n",
       "    <tr>\n",
       "      <th>2020-01-28</th>\n",
       "      <td>78.150002</td>\n",
       "      <td>79.599998</td>\n",
       "      <td>78.047501</td>\n",
       "      <td>79.422501</td>\n",
       "      <td>78.742477</td>\n",
       "      <td>162234000</td>\n",
       "    </tr>\n",
       "    <tr>\n",
       "      <th>2020-01-29</th>\n",
       "      <td>81.112503</td>\n",
       "      <td>81.962502</td>\n",
       "      <td>80.345001</td>\n",
       "      <td>81.084999</td>\n",
       "      <td>80.390747</td>\n",
       "      <td>216229200</td>\n",
       "    </tr>\n",
       "    <tr>\n",
       "      <th>2020-01-30</th>\n",
       "      <td>80.135002</td>\n",
       "      <td>81.022499</td>\n",
       "      <td>79.687500</td>\n",
       "      <td>80.967499</td>\n",
       "      <td>80.274246</td>\n",
       "      <td>126743200</td>\n",
       "    </tr>\n",
       "    <tr>\n",
       "      <th>2020-01-31</th>\n",
       "      <td>80.232498</td>\n",
       "      <td>80.669998</td>\n",
       "      <td>77.072502</td>\n",
       "      <td>77.377502</td>\n",
       "      <td>76.714989</td>\n",
       "      <td>199588400</td>\n",
       "    </tr>\n",
       "  </tbody>\n",
       "</table>\n",
       "</div>"
      ],
      "text/plain": [
       "                 Open       High        Low      Close  Adj Close     Volume\n",
       "Date                                                                        \n",
       "2020-01-27  77.514999  77.942497  76.220001  77.237503  76.576187  161940000\n",
       "2020-01-28  78.150002  79.599998  78.047501  79.422501  78.742477  162234000\n",
       "2020-01-29  81.112503  81.962502  80.345001  81.084999  80.390747  216229200\n",
       "2020-01-30  80.135002  81.022499  79.687500  80.967499  80.274246  126743200\n",
       "2020-01-31  80.232498  80.669998  77.072502  77.377502  76.714989  199588400"
      ]
     },
     "execution_count": 12,
     "metadata": {},
     "output_type": "execute_result"
    }
   ],
   "source": [
    "data.head()"
   ]
  },
  {
   "cell_type": "code",
   "execution_count": 15,
   "id": "0cee1775",
   "metadata": {},
   "outputs": [
    {
     "data": {
      "text/plain": [
       "pandas.core.series.Series"
      ]
     },
     "execution_count": 15,
     "metadata": {},
     "output_type": "execute_result"
    }
   ],
   "source": [
    "type(daily_chg)"
   ]
  },
  {
   "cell_type": "code",
   "execution_count": 16,
   "id": "5370def9",
   "metadata": {},
   "outputs": [
    {
     "data": {
      "text/plain": [
       "Date\n",
       "2020-01-27    0.277496\n",
       "2020-01-28   -1.272499\n",
       "2020-01-29    0.027504\n",
       "2020-01-30   -0.832497\n",
       "2020-01-31    2.854996\n",
       "dtype: float64"
      ]
     },
     "execution_count": 16,
     "metadata": {},
     "output_type": "execute_result"
    }
   ],
   "source": [
    "# series can have .head() as DataFrame\n",
    "daily_chg.head()"
   ]
  },
  {
   "cell_type": "markdown",
   "id": "ef1f1499",
   "metadata": {},
   "source": [
    "***note that the negtive value actually represents a increased value**"
   ]
  },
  {
   "cell_type": "code",
   "execution_count": 17,
   "id": "54e6c6b4",
   "metadata": {},
   "outputs": [],
   "source": [
    "# Calculate daily change in percentage\n",
    "daily_pct_chg = (data['Close'] - data['Open'])/data['Open']*100"
   ]
  },
  {
   "cell_type": "code",
   "execution_count": 19,
   "id": "340ff0cb",
   "metadata": {},
   "outputs": [
    {
     "data": {
      "text/plain": [
       "Date\n",
       "2020-01-27   -0.357990\n",
       "2020-01-28    1.628278\n",
       "2020-01-29   -0.033908\n",
       "2020-01-30    1.038868\n",
       "2020-01-31   -3.558403\n",
       "dtype: float64"
      ]
     },
     "execution_count": 19,
     "metadata": {},
     "output_type": "execute_result"
    }
   ],
   "source": [
    "daily_pct_chg.head()"
   ]
  },
  {
   "cell_type": "markdown",
   "id": "581bcbb4",
   "metadata": {},
   "source": [
    "***note that the negtive value now represents a value decreased**"
   ]
  },
  {
   "cell_type": "markdown",
   "id": "cd43ca77",
   "metadata": {},
   "source": [
    "## Check specific column and row values\n",
    "\n",
    "Pandas DataFrame syntax includes “loc” and “iloc” functions, eg.,  data_frame.loc[ ] and data_frame.iloc[ ]. Both functions are used to access rows and/or columns, where “loc” is for access by labels and “iloc” is for access by position, i.e. numerical indices. "
   ]
  },
  {
   "cell_type": "code",
   "execution_count": 21,
   "id": "067517c1",
   "metadata": {},
   "outputs": [
    {
     "data": {
      "text/plain": [
       "77.237503"
      ]
     },
     "execution_count": 21,
     "metadata": {},
     "output_type": "execute_result"
    }
   ],
   "source": [
    "# iloc\n",
    "data['Close'].iloc[0]"
   ]
  },
  {
   "cell_type": "code",
   "execution_count": 22,
   "id": "78bf5b30",
   "metadata": {},
   "outputs": [
    {
     "data": {
      "text/plain": [
       "142.080002"
      ]
     },
     "execution_count": 22,
     "metadata": {},
     "output_type": "execute_result"
    }
   ],
   "source": [
    "# index backwards\n",
    "data['Close'].iloc[-1]"
   ]
  },
  {
   "cell_type": "code",
   "execution_count": 23,
   "id": "8025eff9",
   "metadata": {},
   "outputs": [
    {
     "data": {
      "text/plain": [
       "Date\n",
       "2021-01-20    132.029999\n",
       "2021-01-21    136.869995\n",
       "2021-01-22    139.070007\n",
       "2021-01-25    142.919998\n",
       "2021-01-26    142.080002\n",
       "Name: Close, dtype: float64"
      ]
     },
     "execution_count": 23,
     "metadata": {},
     "output_type": "execute_result"
    }
   ],
   "source": [
    "# confirmation\n",
    "data['Close'].tail()"
   ]
  },
  {
   "cell_type": "code",
   "execution_count": 24,
   "id": "c93aa4c8",
   "metadata": {},
   "outputs": [],
   "source": [
    "# Normalisaztion - the Close price is divided by the first available Close price.\n",
    "norm = data['Close']/data['Close'].iloc[0]"
   ]
  },
  {
   "cell_type": "code",
   "execution_count": 25,
   "id": "7fe189f3",
   "metadata": {},
   "outputs": [
    {
     "data": {
      "text/plain": [
       "Date\n",
       "2020-01-27    1.000000\n",
       "2020-01-28    1.028289\n",
       "2020-01-29    1.049814\n",
       "2020-01-30    1.048293\n",
       "2020-01-31    1.001813\n",
       "                ...   \n",
       "2021-01-20    1.709403\n",
       "2021-01-21    1.772067\n",
       "2021-01-22    1.800550\n",
       "2021-01-25    1.850396\n",
       "2021-01-26    1.839521\n",
       "Name: Close, Length: 253, dtype: float64"
      ]
     },
     "execution_count": 25,
     "metadata": {},
     "output_type": "execute_result"
    }
   ],
   "source": [
    "norm"
   ]
  },
  {
   "cell_type": "code",
   "execution_count": 26,
   "id": "9c9262ea",
   "metadata": {},
   "outputs": [
    {
     "data": {
      "text/plain": [
       "142.080002"
      ]
     },
     "execution_count": 26,
     "metadata": {},
     "output_type": "execute_result"
    }
   ],
   "source": [
    "# So any days close value will be that day's normalisation value times the first day clsoe value.\n",
    "data['Close'].iloc[0]*norm.iloc[-1]"
   ]
  },
  {
   "cell_type": "code",
   "execution_count": 27,
   "id": "912a59fc",
   "metadata": {},
   "outputs": [
    {
     "data": {
      "text/plain": [
       "142.080002"
      ]
     },
     "execution_count": 27,
     "metadata": {},
     "output_type": "execute_result"
    }
   ],
   "source": [
    "data['Close'].iloc[-1]"
   ]
  },
  {
   "cell_type": "markdown",
   "id": "8547a25e",
   "metadata": {},
   "source": [
    "# End"
   ]
  }
 ],
 "metadata": {
  "kernelspec": {
   "display_name": "Python 3 (ipykernel)",
   "language": "python",
   "name": "python3"
  },
  "language_info": {
   "codemirror_mode": {
    "name": "ipython",
    "version": 3
   },
   "file_extension": ".py",
   "mimetype": "text/x-python",
   "name": "python",
   "nbconvert_exporter": "python",
   "pygments_lexer": "ipython3",
   "version": "3.9.7"
  }
 },
 "nbformat": 4,
 "nbformat_minor": 5
}
