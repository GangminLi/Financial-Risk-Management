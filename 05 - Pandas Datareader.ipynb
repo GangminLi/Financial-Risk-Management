{
 "cells": [
  {
   "cell_type": "markdown",
   "id": "53828d88",
   "metadata": {},
   "source": [
    "<a \n",
    " href=\"https://colab.research.google.com/github/LearnPythonWithRune/FinancialDataAnalysisWithPython/blob/main/colab/starter/05 - Pandas Datareader.ipynb\"\n",
    " target=\"_parent\">\n",
    "<img \n",
    " src=\"https://colab.research.google.com/assets/colab-badge.svg\"\n",
    "alt=\"Open In Colab\"/>\n",
    "</a>"
   ]
  },
  {
   "cell_type": "markdown",
   "id": "5df92a20",
   "metadata": {},
   "source": [
    "# 5. Pandas-datareader read data with web service API\n",
    "- https://pandas-datareader.readthedocs.io/en/latest/"
   ]
  },
  {
   "cell_type": "markdown",
   "id": "5fb59739",
   "metadata": {},
   "source": [
    "In Financial analysis, we need a lot fo historical data. These data are generally provided by many online financial serivces like Nasdaq, Woeld bank and goveronment institutions and commercial serivces. \n",
    "\n",
    "These serivces are normally provide data with a service API. Pandas needs to read data form these APIs. Pandas provides a function called **pandas-datareader** it can read data dirctly from a serivce provider. The detailed document can be found from [pandas-datareader](https://pandas-datareader.readthedocs.io/en/latest/)\n",
    "\n",
    "Functions from pandas_datareader.data and pandas_datareader.wb extract data from various Internet sources into a pandas DataFrame. Currently the following sources are supported:\n",
    "\n",
    "- Tiingo - IEX - Alpha Vantage - Econdb - Enigma - Quandl - St.Louis FED (FRED) - Kenneth French’s data library\n",
    "\n",
    "- World Bank - OECD - Eurostat - Thrift Savings Plan - Nasdaq Trader symbol definitions - Stooq\n",
    "\n",
    "- MOEX - Naver Finance\n",
    "\n",
    "- Yahoo Finance"
   ]
  },
  {
   "cell_type": "code",
   "execution_count": null,
   "id": "5e2a56aa",
   "metadata": {},
   "outputs": [],
   "source": [
    "# Install using pip\n",
    "# pip install pandas-datareader"
   ]
  },
  {
   "cell_type": "code",
   "execution_count": null,
   "id": "c169e405",
   "metadata": {},
   "outputs": [],
   "source": [
    "import pandas_datareader as pdr\n",
    "\n",
    "#This example reads 5-years of 10-year constant maturity yields on U.S. government bonds.\n",
    "data = pdr.get_data_fred('GS10')"
   ]
  },
  {
   "cell_type": "code",
   "execution_count": null,
   "id": "e2f08e20",
   "metadata": {},
   "outputs": [],
   "source": [
    "data.head()"
   ]
  },
  {
   "cell_type": "code",
   "execution_count": null,
   "id": "eca6ca74",
   "metadata": {},
   "outputs": [],
   "source": [
    "data.tail()"
   ]
  },
  {
   "cell_type": "markdown",
   "id": "af54999e",
   "metadata": {},
   "source": [
    "## Read data from Yahoo Finance "
   ]
  },
  {
   "cell_type": "code",
   "execution_count": 21,
   "id": "25e5cab8",
   "metadata": {},
   "outputs": [],
   "source": [
    "import datetime as dt"
   ]
  },
  {
   "cell_type": "code",
   "execution_count": 22,
   "id": "dc54e752",
   "metadata": {},
   "outputs": [],
   "source": [
    "# Ticker is the symbol of a company on the Stock market. AAPL is Apple\n",
    "ticker = \"AAPL\"\n",
    "start = dt.datetime(2019, 1, 1)\n",
    "end = dt.datetime(2020, 12, 31)\n",
    "\n",
    "data = pdr.get_data_yahoo(ticker, start, end)"
   ]
  },
  {
   "cell_type": "code",
   "execution_count": 23,
   "id": "c6074fd5",
   "metadata": {},
   "outputs": [
    {
     "data": {
      "text/html": [
       "<div>\n",
       "<style scoped>\n",
       "    .dataframe tbody tr th:only-of-type {\n",
       "        vertical-align: middle;\n",
       "    }\n",
       "\n",
       "    .dataframe tbody tr th {\n",
       "        vertical-align: top;\n",
       "    }\n",
       "\n",
       "    .dataframe thead th {\n",
       "        text-align: right;\n",
       "    }\n",
       "</style>\n",
       "<table border=\"1\" class=\"dataframe\">\n",
       "  <thead>\n",
       "    <tr style=\"text-align: right;\">\n",
       "      <th></th>\n",
       "      <th>High</th>\n",
       "      <th>Low</th>\n",
       "      <th>Open</th>\n",
       "      <th>Close</th>\n",
       "      <th>Volume</th>\n",
       "      <th>Adj Close</th>\n",
       "    </tr>\n",
       "    <tr>\n",
       "      <th>Date</th>\n",
       "      <th></th>\n",
       "      <th></th>\n",
       "      <th></th>\n",
       "      <th></th>\n",
       "      <th></th>\n",
       "      <th></th>\n",
       "    </tr>\n",
       "  </thead>\n",
       "  <tbody>\n",
       "    <tr>\n",
       "      <th>2019-01-02</th>\n",
       "      <td>39.712502</td>\n",
       "      <td>38.557499</td>\n",
       "      <td>38.722500</td>\n",
       "      <td>39.480000</td>\n",
       "      <td>148158800.0</td>\n",
       "      <td>38.277523</td>\n",
       "    </tr>\n",
       "    <tr>\n",
       "      <th>2019-01-03</th>\n",
       "      <td>36.430000</td>\n",
       "      <td>35.500000</td>\n",
       "      <td>35.994999</td>\n",
       "      <td>35.547501</td>\n",
       "      <td>365248800.0</td>\n",
       "      <td>34.464794</td>\n",
       "    </tr>\n",
       "    <tr>\n",
       "      <th>2019-01-04</th>\n",
       "      <td>37.137501</td>\n",
       "      <td>35.950001</td>\n",
       "      <td>36.132500</td>\n",
       "      <td>37.064999</td>\n",
       "      <td>234428400.0</td>\n",
       "      <td>35.936081</td>\n",
       "    </tr>\n",
       "    <tr>\n",
       "      <th>2019-01-07</th>\n",
       "      <td>37.207500</td>\n",
       "      <td>36.474998</td>\n",
       "      <td>37.174999</td>\n",
       "      <td>36.982498</td>\n",
       "      <td>219111200.0</td>\n",
       "      <td>35.856094</td>\n",
       "    </tr>\n",
       "    <tr>\n",
       "      <th>2019-01-08</th>\n",
       "      <td>37.955002</td>\n",
       "      <td>37.130001</td>\n",
       "      <td>37.389999</td>\n",
       "      <td>37.687500</td>\n",
       "      <td>164101200.0</td>\n",
       "      <td>36.539623</td>\n",
       "    </tr>\n",
       "  </tbody>\n",
       "</table>\n",
       "</div>"
      ],
      "text/plain": [
       "                 High        Low       Open      Close       Volume  Adj Close\n",
       "Date                                                                          \n",
       "2019-01-02  39.712502  38.557499  38.722500  39.480000  148158800.0  38.277523\n",
       "2019-01-03  36.430000  35.500000  35.994999  35.547501  365248800.0  34.464794\n",
       "2019-01-04  37.137501  35.950001  36.132500  37.064999  234428400.0  35.936081\n",
       "2019-01-07  37.207500  36.474998  37.174999  36.982498  219111200.0  35.856094\n",
       "2019-01-08  37.955002  37.130001  37.389999  37.687500  164101200.0  36.539623"
      ]
     },
     "execution_count": 23,
     "metadata": {},
     "output_type": "execute_result"
    }
   ],
   "source": [
    "data.head()"
   ]
  },
  {
   "cell_type": "markdown",
   "id": "75393261",
   "metadata": {},
   "source": [
    "**The data is same with we download from the website and save into a CSV fiel and load the content of the CSV file in to DataFrame**"
   ]
  },
  {
   "cell_type": "code",
   "execution_count": null,
   "id": "658e2add",
   "metadata": {},
   "outputs": [],
   "source": [
    "data.index"
   ]
  },
  {
   "cell_type": "markdown",
   "id": "58ecd338",
   "metadata": {},
   "source": [
    "## Read historic stock prices data from Stooq"
   ]
  },
  {
   "cell_type": "code",
   "execution_count": null,
   "id": "d582464b",
   "metadata": {},
   "outputs": [],
   "source": [
    "# data2 = pdr.get_data_stooq(ticker, start)"
   ]
  },
  {
   "cell_type": "code",
   "execution_count": null,
   "id": "41f2fdf8",
   "metadata": {},
   "outputs": [],
   "source": [
    "nasdaq_sym = pdr.get_nasdaq_symbols()\n",
    "\n",
    "# understand data we get. we can use .head(), .info(), .shape, .describe(), .columns, .index, .values\n",
    "\n",
    "nasdaq_sym.head()"
   ]
  },
  {
   "cell_type": "code",
   "execution_count": null,
   "id": "1d0442aa",
   "metadata": {},
   "outputs": [],
   "source": [
    "# shape returns the number of rows and columns of the DataFrame\n",
    "nasdaq_sym.shape"
   ]
  },
  {
   "cell_type": "code",
   "execution_count": null,
   "id": "eeb89cc8",
   "metadata": {},
   "outputs": [],
   "source": [
    "# info() shows information on each of the columns\n",
    "nasdaq_sym.info()"
   ]
  },
  {
   "cell_type": "code",
   "execution_count": null,
   "id": "0c8d4247",
   "metadata": {},
   "outputs": [],
   "source": [
    "# find company Apple's symbol using many str functions such as .str.contains(\"xxxx\")\n",
    "\n",
    "Name = nasdaq_sym[\"Security Name\"].str.contains(\"Apple\") \n",
    "nasdaq_sym[Name]"
   ]
  },
  {
   "cell_type": "code",
   "execution_count": null,
   "id": "d802f8a8",
   "metadata": {},
   "outputs": [],
   "source": [
    "# ticker of Apple\n",
    "ticker = nasdaq_sym[Name][\"NASDAQ Symbol\"]\n",
    "ticker"
   ]
  },
  {
   "cell_type": "code",
   "execution_count": null,
   "id": "617149c0",
   "metadata": {},
   "outputs": [],
   "source": [
    "nasdaq_sym.loc['AAPL']"
   ]
  },
  {
   "cell_type": "markdown",
   "id": "7a050864",
   "metadata": {},
   "source": [
    "# End"
   ]
  },
  {
   "cell_type": "code",
   "execution_count": null,
   "id": "c499fd7c",
   "metadata": {},
   "outputs": [],
   "source": []
  }
 ],
 "metadata": {
  "kernelspec": {
   "display_name": "Python 3 (ipykernel)",
   "language": "python",
   "name": "python3"
  },
  "language_info": {
   "codemirror_mode": {
    "name": "ipython",
    "version": 3
   },
   "file_extension": ".py",
   "mimetype": "text/x-python",
   "name": "python",
   "nbconvert_exporter": "python",
   "pygments_lexer": "ipython3",
   "version": "3.9.7"
  }
 },
 "nbformat": 4,
 "nbformat_minor": 5
}
